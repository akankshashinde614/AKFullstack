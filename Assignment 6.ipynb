{
 "cells": [
  {
   "cell_type": "code",
   "execution_count": null,
   "id": "8d450094",
   "metadata": {},
   "outputs": [],
   "source": [
    "1.What are escape characters, and how do you use them?\n",
    "\n",
    "ANSWER:\n",
    "    Escape character represent charcters in string values that would oyherwise be difficult or impossible to type into code.\n",
    "    "
   ]
  },
  {
   "cell_type": "code",
   "execution_count": null,
   "id": "786514d0",
   "metadata": {},
   "outputs": [],
   "source": [
    "2.What do the escape character n and t stands for?\n",
    "\n",
    "ANSWER:\n",
    "    Escape character n is for newline and t is for Tab.    "
   ]
  },
  {
   "cell_type": "code",
   "execution_count": null,
   "id": "26245cdc",
   "metadata": {},
   "outputs": [],
   "source": [
    "3. What is the way to include backslash character in a string?\n",
    "\n",
    "ANSWER:\n",
    "    The \\\\ escape character will represent a back slash in a string."
   ]
  },
  {
   "cell_type": "code",
   "execution_count": null,
   "id": "14d4b963",
   "metadata": {},
   "outputs": [],
   "source": [
    "4.The string \"Howl's Moving Castle\" is a correct value. Why isnt the single quote character in the word Howls not escaped a problem?\n",
    "\n",
    "ANSWER:\n",
    "    The single quote in \"Howl's\" is file because you have used double quotes to mark the beginning and end of the string."
   ]
  },
  {
   "cell_type": "code",
   "execution_count": null,
   "id": "fbc6cdff",
   "metadata": {},
   "outputs": [],
   "source": [
    "5.How do you write a string of newlines if you dont want to use the n character?\n",
    "\n",
    "ANSWER:\n",
    "    Multiline string allow you to use newlines in the strings without the \\n escape character."
   ]
  },
  {
   "cell_type": "code",
   "execution_count": null,
   "id": "0c970d9d",
   "metadata": {},
   "outputs": [],
   "source": [
    "6.What are the values of the given expression?\n",
    "  'Hello,world!'[1]\n",
    "  'Hello,world!'[0:5]\n",
    "  'Hello,world!'[:5]\n",
    "  'Hello,world!'[3:]\n",
    "ANSWER:\n",
    "    The values for given expression:\n",
    "     'Hello,world!'[1]='e'  \n",
    "    'Hello,world!'[0:5]='Hello'\n",
    "     'Hello,world!'[:5]='Hello'\n",
    "     'Hello,world!'[3:] ='lo,world!'"
   ]
  },
  {
   "cell_type": "code",
   "execution_count": 1,
   "id": "6400d5e5",
   "metadata": {},
   "outputs": [
    {
     "data": {
      "text/plain": [
       "'e'"
      ]
     },
     "execution_count": 1,
     "metadata": {},
     "output_type": "execute_result"
    }
   ],
   "source": [
    "'Hello,world!'[1]"
   ]
  },
  {
   "cell_type": "code",
   "execution_count": 2,
   "id": "d8155f45",
   "metadata": {},
   "outputs": [
    {
     "data": {
      "text/plain": [
       "'Hello'"
      ]
     },
     "execution_count": 2,
     "metadata": {},
     "output_type": "execute_result"
    }
   ],
   "source": [
    "'Hello,world!'[0:5]"
   ]
  },
  {
   "cell_type": "code",
   "execution_count": 3,
   "id": "369053d1",
   "metadata": {},
   "outputs": [
    {
     "data": {
      "text/plain": [
       "'Hello'"
      ]
     },
     "execution_count": 3,
     "metadata": {},
     "output_type": "execute_result"
    }
   ],
   "source": [
    "'Hello,world!'[:5]"
   ]
  },
  {
   "cell_type": "code",
   "execution_count": 4,
   "id": "ff2ee89b",
   "metadata": {},
   "outputs": [
    {
     "data": {
      "text/plain": [
       "'lo,world!'"
      ]
     },
     "execution_count": 4,
     "metadata": {},
     "output_type": "execute_result"
    }
   ],
   "source": [
    "'Hello,world!'[3:]"
   ]
  },
  {
   "cell_type": "code",
   "execution_count": null,
   "id": "be01d341",
   "metadata": {},
   "outputs": [],
   "source": [
    "7.What are the values of the following expression?\n",
    "'Hello'.upper()\n",
    "'Hello'.upper().isupper()\n",
    "'Hello'.upper().lower()\n",
    "\n",
    "ANSWER:\n",
    "    The values for given expression:\n",
    "    'Hello'.upper()='HELLO'\n",
    "    'Hello'.upper().isupper()=True\n",
    "    'Hello'.upper().lower()='hello'"
   ]
  },
  {
   "cell_type": "code",
   "execution_count": 5,
   "id": "00d4cadc",
   "metadata": {},
   "outputs": [
    {
     "data": {
      "text/plain": [
       "'HELLO'"
      ]
     },
     "execution_count": 5,
     "metadata": {},
     "output_type": "execute_result"
    }
   ],
   "source": [
    "'Hello'.upper()"
   ]
  },
  {
   "cell_type": "code",
   "execution_count": 6,
   "id": "b1de601c",
   "metadata": {},
   "outputs": [
    {
     "data": {
      "text/plain": [
       "True"
      ]
     },
     "execution_count": 6,
     "metadata": {},
     "output_type": "execute_result"
    }
   ],
   "source": [
    "'Hello'.upper().isupper()"
   ]
  },
  {
   "cell_type": "code",
   "execution_count": 7,
   "id": "b4a7ae66",
   "metadata": {},
   "outputs": [
    {
     "data": {
      "text/plain": [
       "'hello'"
      ]
     },
     "execution_count": 7,
     "metadata": {},
     "output_type": "execute_result"
    }
   ],
   "source": [
    "'Hello'.upper().lower()"
   ]
  },
  {
   "cell_type": "code",
   "execution_count": null,
   "id": "c8c84fdb",
   "metadata": {},
   "outputs": [],
   "source": [
    "8. What are the values of the following expression?\n",
    "'Remember, remember, the fifth of july.'.split()\n",
    "'_'.join('there can only one.'.split())\n",
    "\n",
    "ANSWER:\n",
    "    The value for following expression is:\n",
    "    'Remember, remember, the fifth of july.'.split()= ['Remember,', 'remember,', 'the', 'fifth', 'of', 'july.']\n",
    "    '_'.join('there can only one.'.split())='there_can_only_one.'"
   ]
  },
  {
   "cell_type": "code",
   "execution_count": 8,
   "id": "1b1bf90f",
   "metadata": {},
   "outputs": [
    {
     "data": {
      "text/plain": [
       "['Remember,', 'remember,', 'the', 'fifth', 'of', 'july.']"
      ]
     },
     "execution_count": 8,
     "metadata": {},
     "output_type": "execute_result"
    }
   ],
   "source": [
    "'Remember, remember, the fifth of july.'.split()"
   ]
  },
  {
   "cell_type": "code",
   "execution_count": 9,
   "id": "557ff513",
   "metadata": {},
   "outputs": [
    {
     "data": {
      "text/plain": [
       "'there_can_only_one.'"
      ]
     },
     "execution_count": 9,
     "metadata": {},
     "output_type": "execute_result"
    }
   ],
   "source": [
    "'_'.join('there can only one.'.split())"
   ]
  },
  {
   "cell_type": "code",
   "execution_count": null,
   "id": "6a7ed202",
   "metadata": {},
   "outputs": [],
   "source": [
    "9.What are the methods for right justifying,left justifying and centering a string?\n",
    "\n",
    "ANSWER:\n",
    "    The rjust(),ljust()and center() string methods are use for right justifying,left justifying and centering a string. "
   ]
  },
  {
   "cell_type": "code",
   "execution_count": null,
   "id": "e6cd198f",
   "metadata": {},
   "outputs": [],
   "source": [
    "10.What is the best way to remove whitespace character from the start or end?\n",
    "\n",
    "ANSWER:\n",
    "    The lstrip() and rstrip methods remove whitespace from the left and right ends of a string, respectively.."
   ]
  }
 ],
 "metadata": {
  "kernelspec": {
   "display_name": "Python 3 (ipykernel)",
   "language": "python",
   "name": "python3"
  },
  "language_info": {
   "codemirror_mode": {
    "name": "ipython",
    "version": 3
   },
   "file_extension": ".py",
   "mimetype": "text/x-python",
   "name": "python",
   "nbconvert_exporter": "python",
   "pygments_lexer": "ipython3",
   "version": "3.9.7"
  }
 },
 "nbformat": 4,
 "nbformat_minor": 5
}
