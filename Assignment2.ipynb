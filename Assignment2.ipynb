{
 "cells": [
  {
   "cell_type": "code",
   "execution_count": null,
   "id": "0d2d334d",
   "metadata": {},
   "outputs": [],
   "source": [
    "1 What are the values of boolean data type? How do you write them?\n",
    "\n",
    "ANSWER:\n",
    "    Boolean data type consist mainly two types  of values i.e..True and False(T & F should be capital.)\n",
    "Example :\n",
    "    2>3 if first value is greater than second then is returns true otherwise it returns false."
   ]
  },
  {
   "cell_type": "code",
   "execution_count": null,
   "id": "7ebcb3a4",
   "metadata": {},
   "outputs": [],
   "source": [
    "2.what are the three different types of boolean operators?\n",
    "\n",
    "ANSWER:\n",
    "    There are 3 types of boolean operators are as follows:\n",
    "    (1)AND\n",
    "    (2)OR\n",
    "    (3)NOT"
   ]
  },
  {
   "cell_type": "code",
   "execution_count": null,
   "id": "ddb3f7a7",
   "metadata": {},
   "outputs": [],
   "source": [
    "3.Make a list of each Boolean operators truth table(i.e.. every possible combination of boolean values for the operator and what it evaluates).\n",
    "\n",
    "ANSWER:\n",
    "    \n",
    "     X          Y       AND         OR        NOT X\n",
    "    True      True     True        True       False    \n",
    "    True      False    False       True       False\n",
    "    False     True     False       True       True  \n",
    "    False     False    False       False      True  "
   ]
  },
  {
   "cell_type": "code",
   "execution_count": null,
   "id": "0bd688c6",
   "metadata": {},
   "outputs": [],
   "source": [
    "4. What are the values of the following expression?\n",
    "\n",
    "ANSWER:\n",
    "       Expression                            Value\n",
    "    1. (5>4) and (3==5)                      False\n",
    "    2.  not (5>4)                            False\n",
    "    3.  (5>4) or (3==5)                      True\n",
    "    4. not((5>4)or(3==5))                    False\n",
    "    5. (True and true)and(True==False)       False\n",
    "    6. (not False)or(not True)               True"
   ]
  },
  {
   "cell_type": "code",
   "execution_count": null,
   "id": "706f0ad6",
   "metadata": {},
   "outputs": [],
   "source": [
    "5. What are the six comparison operator?\n",
    "\n",
    "ANSWER:\n",
    "    Python has 6 comparision operators, are as follows:\n",
    "        -Less than(<)\n",
    "        -Less than or equal to(<=)\n",
    "        -Greater than(>)\n",
    "        -Greater than or equal to(>=)\n",
    "        -Equal to(==)\n",
    "        -Not equal to(!=)"
   ]
  },
  {
   "cell_type": "code",
   "execution_count": null,
   "id": "53758c48",
   "metadata": {},
   "outputs": [],
   "source": [
    "Identify the three blocks in this code:\n",
    "    spam=0\n",
    "    if spam==10:\n",
    "        print('eggs')\n",
    "    if spam>5\n",
    "     print('bacon')\n",
    "    else:\n",
    "        print('ham')\n",
    "        print('spam')\n",
    "        print('spam')\n",
    "        \n",
    "ANSWER:\n",
    "    The three blocks are everything inside the if statement and the line print('bacon')and print('ham')."
   ]
  },
  {
   "cell_type": "code",
   "execution_count": null,
   "id": "442f28e5",
   "metadata": {},
   "outputs": [],
   "source": [
    "8.Write code that prints Hello if 1 is stored in spam,prints Howdy if 2 is stored in spam, and prints Greetings! if anything else is stored in spam\n",
    "\n",
    "ANSWER:\n",
    "if spam==1:\n",
    "    print('hello')\n",
    "elif spam==2:\n",
    "    print('Howdy')\n",
    "else:\n",
    "    print('Greetings')"
   ]
  },
  {
   "cell_type": "code",
   "execution_count": 13,
   "id": "462be852",
   "metadata": {},
   "outputs": [
    {
     "name": "stdout",
     "output_type": "stream",
     "text": [
      "Greetings\n"
     ]
    }
   ],
   "source": [
    "if spam==1:\n",
    "    print('hello')\n",
    "elif spam==2:\n",
    "    print('Howdy')\n",
    "else:\n",
    "    print('Greetings')"
   ]
  },
  {
   "cell_type": "code",
   "execution_count": null,
   "id": "f097ddc1",
   "metadata": {},
   "outputs": [],
   "source": [
    "9. If your program is stuck in an endless loop, what keys you will press?\n",
    "\n",
    "ANSWER:\n",
    "    I will press ctrl+c key to stuck in an endless loop."
   ]
  },
  {
   "cell_type": "code",
   "execution_count": null,
   "id": "2e4a4a6a",
   "metadata": {},
   "outputs": [],
   "source": [
    "10.How can you tell the difference between break and continue?\n",
    "\n",
    "ANSWER:\n",
    "              Break Statement                                                                 Continue statement\n",
    "1.When the break statement is encountered then the control       1.When the continue statement is encountered then the control automatically\n",
    "  is exited from the loop immediately.                             passed from the beginning of the loop statement.\n",
    "2. Syntax: break;                                                2.Syntax: continue;"
   ]
  },
  {
   "cell_type": "code",
   "execution_count": null,
   "id": "355438a3",
   "metadata": {},
   "outputs": [],
   "source": [
    "11.In a for loop what is the difference between the range(10),range(0,10) and range(0,10,1)?\n",
    "\n",
    "ANSWER:\n",
    "     They all do the same thing. The range(10) call ranges from 0 to 10(not including 10),range(0,10) explicity tells the loop to start at 0 and range(0,10,1) tells the loop to increases the variable by 1 on each iteration"
   ]
  },
  {
   "cell_type": "code",
   "execution_count": null,
   "id": "a3035190",
   "metadata": {},
   "outputs": [],
   "source": [
    "12.Write a short program to prints the number 1 to10 using a for loop. Then write an equivalent program to print the numbers 1 to 10 using while loop\n",
    "\n",
    "ANSWER:\n",
    "Using for loop:\n",
    "for i in range(1,11):\n",
    "    print(i)   \n",
    "  \n",
    " Using while loop:\n",
    "i=1\n",
    "while(i<=10):\n",
    "    print(i)\n",
    "    i+=1       "
   ]
  },
  {
   "cell_type": "code",
   "execution_count": 19,
   "id": "ccaab6f8",
   "metadata": {},
   "outputs": [
    {
     "name": "stdout",
     "output_type": "stream",
     "text": [
      "1\n",
      "2\n",
      "3\n",
      "4\n",
      "5\n",
      "6\n",
      "7\n",
      "8\n",
      "9\n",
      "10\n"
     ]
    }
   ],
   "source": [
    "for i in range(1,11):\n",
    "    print(i)"
   ]
  },
  {
   "cell_type": "code",
   "execution_count": 21,
   "id": "00763bd1",
   "metadata": {},
   "outputs": [
    {
     "name": "stdout",
     "output_type": "stream",
     "text": [
      "1\n",
      "2\n",
      "3\n",
      "4\n",
      "5\n",
      "6\n",
      "7\n",
      "8\n",
      "9\n",
      "10\n"
     ]
    }
   ],
   "source": [
    "i=1\n",
    "while(i<=10):\n",
    "    print(i)\n",
    "    i+=1"
   ]
  },
  {
   "cell_type": "code",
   "execution_count": null,
   "id": "4254fec0",
   "metadata": {},
   "outputs": [],
   "source": [
    "13.If you had a function named bacon() inside a module named spam, how would you call it after importing spam?\n",
    "\n",
    "ANSWER:\n",
    "    The function bacon() can be called with spam.bacon()"
   ]
  }
 ],
 "metadata": {
  "kernelspec": {
   "display_name": "Python 3 (ipykernel)",
   "language": "python",
   "name": "python3"
  },
  "language_info": {
   "codemirror_mode": {
    "name": "ipython",
    "version": 3
   },
   "file_extension": ".py",
   "mimetype": "text/x-python",
   "name": "python",
   "nbconvert_exporter": "python",
   "pygments_lexer": "ipython3",
   "version": "3.9.7"
  }
 },
 "nbformat": 4,
 "nbformat_minor": 5
}
