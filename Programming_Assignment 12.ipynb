{
 "cells": [
  {
   "cell_type": "markdown",
   "id": "27f3befa",
   "metadata": {},
   "source": [
    "1. Write a Python program to Extract Unique values dictionary values?"
   ]
  },
  {
   "cell_type": "code",
   "execution_count": 1,
   "id": "a44c0640",
   "metadata": {},
   "outputs": [
    {
     "name": "stdout",
     "output_type": "stream",
     "text": [
      "The original dictionary is : {'gfg': [5, 6, 7, 8], 'is': [10, 11, 7, 5], 'best': [6, 12, 10, 8], 'for': [1, 2, 5]}\n",
      "The unique values list is : [1, 2, 5, 6, 7, 8, 10, 11, 12]\n"
     ]
    }
   ],
   "source": [
    "test_dict = {'gfg' : [5, 6, 7, 8],\n",
    "            'is' : [10, 11, 7, 5],\n",
    "            'best' : [6, 12, 10, 8],\n",
    "            'for' : [1, 2, 5]}\n",
    " \n",
    "print(\"The original dictionary is : \" + str(test_dict))\n",
    " \n",
    "x=[]\n",
    "for i in test_dict.keys():\n",
    "    x.extend(test_dict[i])\n",
    "x=list(set(x))\n",
    "x.sort()\n",
    "print(\"The unique values list is : \" + str(x))"
   ]
  },
  {
   "cell_type": "markdown",
   "id": "9e89e4aa",
   "metadata": {},
   "source": [
    "2. Write a Python program to find the sum of all items in a dictionary?"
   ]
  },
  {
   "cell_type": "code",
   "execution_count": 2,
   "id": "df01c111",
   "metadata": {},
   "outputs": [
    {
     "name": "stdout",
     "output_type": "stream",
     "text": [
      "Sum : 600\n"
     ]
    }
   ],
   "source": [
    "def returnSum(dict1):\n",
    " \n",
    "    sum = 0\n",
    "    for i in dict1.values():\n",
    "        sum = sum + i\n",
    " \n",
    "    return sum\n",
    " \n",
    "dict1 = {'a': 100, 'b': 200, 'c': 300}\n",
    "print(\"Sum :\", returnSum(dict1))"
   ]
  },
  {
   "cell_type": "markdown",
   "id": "d2869e15",
   "metadata": {},
   "source": [
    "3. Write a Python program to Merging two Dictionaries?"
   ]
  },
  {
   "cell_type": "code",
   "execution_count": 3,
   "id": "08d02bf7",
   "metadata": {},
   "outputs": [
    {
     "name": "stdout",
     "output_type": "stream",
     "text": [
      "{1: 'a', 2: 'c', 4: 'd'}\n"
     ]
    }
   ],
   "source": [
    "dict_1 = {1: 'a', 2: 'b'}\n",
    "dict_2 = {2: 'c', 4: 'd'}\n",
    "\n",
    "print(dict_1 | dict_2)"
   ]
  },
  {
   "cell_type": "markdown",
   "id": "99ec88ce",
   "metadata": {},
   "source": [
    "4. Write a Python program to convert key-values list to flat dictionary?"
   ]
  },
  {
   "cell_type": "code",
   "execution_count": 5,
   "id": "81bd0c83",
   "metadata": {},
   "outputs": [
    {
     "name": "stdout",
     "output_type": "stream",
     "text": [
      "The original dictionary is : {'month': [1, 2, 3], 'name': ['Jan', 'Feb', 'March']}\n",
      "Flattened dictionary : {1: 'Jan', 2: 'Feb', 3: 'March'}\n"
     ]
    }
   ],
   "source": [
    "test_dict = {'month' : [1, 2, 3],\n",
    "            'name' : ['Jan', 'Feb', 'March']}\n",
    " \n",
    "print(\"The original dictionary is : \" + str(test_dict))\n",
    " \n",
    "x=list(test_dict.values())\n",
    "a=x[0]\n",
    "b=x[1]\n",
    "d=dict()\n",
    "for i in range(0,len(a)):\n",
    "    d[a[i]]=b[i]\n",
    "print(\"Flattened dictionary : \" + str(d))"
   ]
  },
  {
   "cell_type": "markdown",
   "id": "05b34f1f",
   "metadata": {},
   "source": [
    "5. Write a Python program to insertion at the beginning in OrderedDict?"
   ]
  },
  {
   "cell_type": "code",
   "execution_count": 6,
   "id": "89203dd8",
   "metadata": {},
   "outputs": [
    {
     "name": "stdout",
     "output_type": "stream",
     "text": [
      "Resultant Dictionary :OrderedDict([('manjeet', '4'), ('akash', '4'), ('akshat', '1'), ('nikhil', '2')])\n"
     ]
    }
   ],
   "source": [
    "from collections import OrderedDict\n",
    " \n",
    "ini_dict1 = OrderedDict([('akshat', '1'), ('nikhil', '2')])\n",
    "ini_dict2 = OrderedDict([(\"manjeet\", '4'), (\"akash\", '4')])\n",
    " \n",
    "both = OrderedDict(list(ini_dict2.items()) + list(ini_dict1.items()))\n",
    " \n",
    "print (\"Resultant Dictionary :\"+str(both))"
   ]
  },
  {
   "cell_type": "markdown",
   "id": "a4840de6",
   "metadata": {},
   "source": [
    "6. Write a Python program to check order of character in string using OrderedDict()?"
   ]
  },
  {
   "cell_type": "code",
   "execution_count": 7,
   "id": "f966e3a8",
   "metadata": {},
   "outputs": [
    {
     "name": "stdout",
     "output_type": "stream",
     "text": [
      "true\n"
     ]
    }
   ],
   "source": [
    "from collections import OrderedDict \n",
    "  \n",
    "def checkOrder(input, pattern): \n",
    "       \n",
    "    dict = OrderedDict.fromkeys(input) \n",
    "  \n",
    "    ptrlen = 0\n",
    "    for key,value in dict.items(): \n",
    "        if (key == pattern[ptrlen]): \n",
    "            ptrlen = ptrlen + 1\n",
    "          \n",
    "        if (ptrlen == (len(pattern))): \n",
    "            return 'true'\n",
    "  \n",
    "    return 'false'\n",
    "\n",
    "if __name__ == \"__main__\": \n",
    "    input = 'engineers rock'\n",
    "    pattern = 'er'\n",
    "    print (checkOrder(input,pattern))"
   ]
  },
  {
   "cell_type": "markdown",
   "id": "de805b9d",
   "metadata": {},
   "source": [
    "7. Write a Python program to sort Python Dictionaries by Key or Value?    "
   ]
  },
  {
   "cell_type": "code",
   "execution_count": 8,
   "id": "d4153303",
   "metadata": {},
   "outputs": [
    {
     "name": "stdout",
     "output_type": "stream",
     "text": [
      "Task 1:-\n",
      "\n",
      "key_value {2: 56, 1: 2, 5: 12, 4: 24, 6: 18, 3: 323}\n",
      "1 2 3 4 5 6 "
     ]
    }
   ],
   "source": [
    "def dictionairy():\n",
    "    key_value = {}\n",
    " \n",
    "    key_value[2] = 56\n",
    "    key_value[1] = 2\n",
    "    key_value[5] = 12\n",
    "    key_value[4] = 24\n",
    "    key_value[6] = 18\n",
    "    key_value[3] = 323\n",
    " \n",
    "    print(\"Task 1:-\\n\")\n",
    " \n",
    "    print(\"key_value\", key_value)\n",
    " \n",
    "    for i in sorted(key_value.keys()):\n",
    "        print(i, end=\" \")\n",
    "def main():\n",
    "    dictionairy()\n",
    "if __name__ == \"__main__\":\n",
    "    main()"
   ]
  }
 ],
 "metadata": {
  "kernelspec": {
   "display_name": "Python 3 (ipykernel)",
   "language": "python",
   "name": "python3"
  },
  "language_info": {
   "codemirror_mode": {
    "name": "ipython",
    "version": 3
   },
   "file_extension": ".py",
   "mimetype": "text/x-python",
   "name": "python",
   "nbconvert_exporter": "python",
   "pygments_lexer": "ipython3",
   "version": "3.9.7"
  }
 },
 "nbformat": 4,
 "nbformat_minor": 5
}
