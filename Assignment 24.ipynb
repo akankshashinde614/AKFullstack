{
 "cells": [
  {
   "cell_type": "markdown",
   "id": "f1d21478",
   "metadata": {},
   "source": [
    "1. What is the relationship between def statements and lambda expressions ?"
   ]
  },
  {
   "cell_type": "code",
   "execution_count": null,
   "id": "fdc314d0",
   "metadata": {},
   "outputs": [],
   "source": [
    "The only difference is that (a) the body of a lambda can consist of only a single expression, the result of which is returned from the function created and (b) a lambda expression is an expression which evaluates to a function object, while a def statement has no value, and creates a function object and binds it to a name."
   ]
  },
  {
   "cell_type": "markdown",
   "id": "afa33abd",
   "metadata": {},
   "source": [
    "2. What is the benefit of lambda?"
   ]
  },
  {
   "cell_type": "code",
   "execution_count": null,
   "id": "1c003f77",
   "metadata": {},
   "outputs": [],
   "source": [
    "The only benifit of lambda is to reduce amount of code."
   ]
  },
  {
   "cell_type": "markdown",
   "id": "71fa99b3",
   "metadata": {},
   "source": [
    "3. Compare and contrast map, filter, and reduce."
   ]
  },
  {
   "cell_type": "code",
   "execution_count": null,
   "id": "e6558d97",
   "metadata": {},
   "outputs": [],
   "source": [
    "Map takes all objects in a list and allows you to apply a function to it whereas Filter takes all objects in a list and runs that through a function to create a new list with all objects that return True in that function. \n",
    " reduce, combines the elements of the sequence together, using a binary function.it also takes an initial value that initializes the reduction, and that ends up being the return value if the list is empty."
   ]
  },
  {
   "cell_type": "markdown",
   "id": "da2a78b2",
   "metadata": {},
   "source": [
    "4. What are function annotations, and how are they used?"
   ]
  },
  {
   "cell_type": "code",
   "execution_count": null,
   "id": "898657fd",
   "metadata": {},
   "outputs": [],
   "source": [
    "Function annotations provide a way of associating various parts of a function with arbitrary python expressions at compile time.\n",
    "Function annotations are accessed using the ‘__annotations__’ attribute. This attribute is a mutable dictionary that stores the function annotations."
   ]
  },
  {
   "cell_type": "markdown",
   "id": "d4693f54",
   "metadata": {},
   "source": [
    "5. What are recursive functions, and how are they used?"
   ]
  },
  {
   "cell_type": "code",
   "execution_count": null,
   "id": "ea8248e3",
   "metadata": {},
   "outputs": [],
   "source": [
    "A recursive function is a function in code that refers to itself for execution.\n",
    "In computer science, recursion is a programming technique using function or algorithm that calls itself one or more times until a specified condition is met at which time the rest of each repetition is processed from the last one called to the first."
   ]
  },
  {
   "cell_type": "markdown",
   "id": "6687a54e",
   "metadata": {},
   "source": [
    "6. What are some general design guidelines for coding functions?"
   ]
  },
  {
   "cell_type": "code",
   "execution_count": null,
   "id": "0a1c762c",
   "metadata": {},
   "outputs": [],
   "source": [
    " Guidelines for coding functions:\n",
    "Safe: It can be used without causing harm.\n",
    "Secure: It can’t be hacked.\n",
    "Reliable: It functions as it should, every time.\n",
    "Testable: It can be tested at the code level.\n",
    "Maintainable: It can be maintained, even as your codebase grows.\n",
    "Portable: It works the same in every environment."
   ]
  },
  {
   "cell_type": "markdown",
   "id": "df51bcb8",
   "metadata": {},
   "source": [
    "7. Name three or more ways that functions can communicate results to a caller. "
   ]
  },
  {
   "cell_type": "code",
   "execution_count": null,
   "id": "f8a758e1",
   "metadata": {},
   "outputs": [],
   "source": [
    "1.To call a function we simply type the function name with appropriate parameters.\n",
    "2.Firstly define function and then call it\n",
    "3.We can provide a default value to an argument by using the assignment operator."
   ]
  },
  {
   "cell_type": "code",
   "execution_count": 5,
   "id": "51331422",
   "metadata": {},
   "outputs": [
    {
     "data": {
      "text/plain": [
       "3"
      ]
     },
     "execution_count": 5,
     "metadata": {},
     "output_type": "execute_result"
    }
   ],
   "source": [
    "add(1,2)"
   ]
  },
  {
   "cell_type": "code",
   "execution_count": 4,
   "id": "27ff5cba",
   "metadata": {},
   "outputs": [
    {
     "name": "stdout",
     "output_type": "stream",
     "text": [
      "sum of numbers is: 3\n"
     ]
    }
   ],
   "source": [
    "\n",
    "def add(a,b):\n",
    "    \"\"\" This fuction return sum \n",
    "    of two numbers\"\"\"\n",
    "    sum=a+b\n",
    "    return sum\n",
    "print(\"sum of numbers is:\",add(1,2))"
   ]
  },
  {
   "cell_type": "code",
   "execution_count": 6,
   "id": "c9c8551e",
   "metadata": {},
   "outputs": [
    {
     "name": "stdout",
     "output_type": "stream",
     "text": [
      "Hello sumit, Good morning!\n",
      "Hello sam, How do you do?\n"
     ]
    }
   ],
   "source": [
    "def greet(name, msg=\"Good morning!\"):\n",
    "    \"\"\"\n",
    "    This function greets to\n",
    "    the person with the\n",
    "    provided message.\n",
    "\n",
    "    If the message is not provided,\n",
    "    it defaults to \"Good\n",
    "    morning!\"\n",
    "    \"\"\"\n",
    "\n",
    "    print(\"Hello\", name + ', ' + msg)\n",
    "\n",
    "\n",
    "greet(\"sumit\")\n",
    "greet(\"sam\", \"How do you do?\")"
   ]
  },
  {
   "cell_type": "code",
   "execution_count": null,
   "id": "bc547239",
   "metadata": {},
   "outputs": [],
   "source": []
  }
 ],
 "metadata": {
  "kernelspec": {
   "display_name": "Python 3 (ipykernel)",
   "language": "python",
   "name": "python3"
  },
  "language_info": {
   "codemirror_mode": {
    "name": "ipython",
    "version": 3
   },
   "file_extension": ".py",
   "mimetype": "text/x-python",
   "name": "python",
   "nbconvert_exporter": "python",
   "pygments_lexer": "ipython3",
   "version": "3.9.7"
  }
 },
 "nbformat": 4,
 "nbformat_minor": 5
}
