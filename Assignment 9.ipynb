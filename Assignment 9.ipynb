{
 "cells": [
  {
   "cell_type": "markdown",
   "id": "7ec8b2f3",
   "metadata": {},
   "source": [
    "1. To what does a relative path refer?"
   ]
  },
  {
   "cell_type": "code",
   "execution_count": null,
   "id": "fc39a686",
   "metadata": {},
   "outputs": [],
   "source": [
    "A relative path refers to a location that is relative to a current directory."
   ]
  },
  {
   "cell_type": "markdown",
   "id": "e6372c76",
   "metadata": {},
   "source": [
    "2. what does an absolute path start with your operating system?"
   ]
  },
  {
   "cell_type": "code",
   "execution_count": null,
   "id": "752b1897",
   "metadata": {},
   "outputs": [],
   "source": [
    "An absolute path refers to the complete details needed to locate a file or folder, starting from the root element. "
   ]
  },
  {
   "cell_type": "markdown",
   "id": "7e87568c",
   "metadata": {},
   "source": [
    "3. What do the function os.getcwd() and os.chdir() do?"
   ]
  },
  {
   "cell_type": "code",
   "execution_count": null,
   "id": "7b42f877",
   "metadata": {},
   "outputs": [],
   "source": [
    "The function os.getcwd() allows you to see what your current working directory is.\n",
    "Function chdir() is change directory, this fuction allows you to set the current working directory to a path of your choice."
   ]
  },
  {
   "cell_type": "markdown",
   "id": "4ff74047",
   "metadata": {},
   "source": [
    "4. What are the . and .. folders?"
   ]
  },
  {
   "cell_type": "code",
   "execution_count": null,
   "id": "56884cb3",
   "metadata": {},
   "outputs": [],
   "source": [
    "The . is current folder/directory and .. is parent folder/directory. "
   ]
  },
  {
   "cell_type": "markdown",
   "id": "85fa11bd",
   "metadata": {},
   "source": [
    "5. In c:\\bacon\\eggs\\spam.txt, which part is the dir name, and which part is the base name? "
   ]
  },
  {
   "cell_type": "code",
   "execution_count": null,
   "id": "a5d86682",
   "metadata": {},
   "outputs": [],
   "source": [
    "c:\\bacon\\eggs is the directory name and spam.txt is the base name."
   ]
  },
  {
   "cell_type": "markdown",
   "id": "17961f7d",
   "metadata": {},
   "source": [
    "6. What are the three \"mode\" arguments that can be passed to the open() function? "
   ]
  },
  {
   "cell_type": "code",
   "execution_count": null,
   "id": "2b0c804e",
   "metadata": {},
   "outputs": [],
   "source": [
    "There are three \"mode\" arguments that can be passed to the open() function:\n",
    "1.r : It opens the file in read-only mode.\n",
    "2.w : It opens the file in write-only mode.\n",
    "3.a : It opens file for appending new information to it. "
   ]
  },
  {
   "cell_type": "markdown",
   "id": "6ed0b0be",
   "metadata": {},
   "source": [
    "7. What happen if an existing file is opened in write mode?"
   ]
  },
  {
   "cell_type": "code",
   "execution_count": null,
   "id": "2e31db5f",
   "metadata": {},
   "outputs": [],
   "source": [
    "If an existing file is opened in write mode then its contenets are discarded and the file is treated as a new empty file. "
   ]
  },
  {
   "cell_type": "markdown",
   "id": "14933b53",
   "metadata": {},
   "source": [
    "8. How do youo tell the difference between read() and readlines()? "
   ]
  },
  {
   "cell_type": "code",
   "execution_count": null,
   "id": "d465a940",
   "metadata": {},
   "outputs": [],
   "source": [
    "The read() will read the whole file at once and then print out the first character that takes up as many bytes as you specify in the parenthesis.\n",
    "The readline() function will read and print out only the first character that take up as many bytes as you specify in parenthesis."
   ]
  },
  {
   "cell_type": "markdown",
   "id": "0dd65d08",
   "metadata": {},
   "source": [
    "9. What data structure does a shelf value resemble?"
   ]
  },
  {
   "cell_type": "code",
   "execution_count": null,
   "id": "cf50f67a",
   "metadata": {},
   "outputs": [],
   "source": [
    "A shelf value resemble a dictionary value, it has keys and values."
   ]
  }
 ],
 "metadata": {
  "kernelspec": {
   "display_name": "Python 3 (ipykernel)",
   "language": "python",
   "name": "python3"
  },
  "language_info": {
   "codemirror_mode": {
    "name": "ipython",
    "version": 3
   },
   "file_extension": ".py",
   "mimetype": "text/x-python",
   "name": "python",
   "nbconvert_exporter": "python",
   "pygments_lexer": "ipython3",
   "version": "3.9.7"
  }
 },
 "nbformat": 4,
 "nbformat_minor": 5
}
