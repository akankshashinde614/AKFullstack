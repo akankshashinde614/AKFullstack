{
 "cells": [
  {
   "cell_type": "markdown",
   "id": "940aaa12",
   "metadata": {},
   "source": [
    "1. In what modes should the PdfFileReader() and PdfFileWriter() File objects will be opened?"
   ]
  },
  {
   "cell_type": "code",
   "execution_count": null,
   "id": "caf31d50",
   "metadata": {},
   "outputs": [],
   "source": [
    " PdfFileReader() needs to open in read-binary mode as 'rb' and PdfFileWriter() needs to open in write-binary mode as 'wb'."
   ]
  },
  {
   "cell_type": "code",
   "execution_count": 1,
   "id": "18368d91",
   "metadata": {},
   "outputs": [
    {
     "name": "stdout",
     "output_type": "stream",
     "text": [
      "Collecting PyPDF2\n",
      "  Downloading PyPDF2-1.27.12-py3-none-any.whl (80 kB)\n",
      "Installing collected packages: PyPDF2\n",
      "Successfully installed PyPDF2-1.27.12\n"
     ]
    }
   ],
   "source": [
    "!pip install PyPDF2"
   ]
  },
  {
   "cell_type": "markdown",
   "id": "41dfd098",
   "metadata": {},
   "source": [
    "2. From a PdfFileReader object, how do you get a page object for page 5? "
   ]
  },
  {
   "cell_type": "code",
   "execution_count": null,
   "id": "78b332e6",
   "metadata": {},
   "outputs": [],
   "source": [
    "To get a page object use getPage() method and pass the page number as an argument in this method.\n",
    "e.g: getPage(5)"
   ]
  },
  {
   "cell_type": "code",
   "execution_count": null,
   "id": "3a2e53f2",
   "metadata": {},
   "outputs": [],
   "source": [
    "import PyPDF2 as pdf\n",
    "pdfFileObj = open(\"busdealer.pdf\",'rb')\n",
    "pdfReader = pdf.PdfFileReader(pdfFileObj)\n",
    "pageObj = pdfReader.getPage[4]\n",
    "pageObj.extractText()"
   ]
  },
  {
   "cell_type": "markdown",
   "id": "5bdcb0ba",
   "metadata": {},
   "source": [
    "3. What PdfFileReader variable stores the number of page in the PDF document?"
   ]
  },
  {
   "cell_type": "code",
   "execution_count": null,
   "id": "958447ec",
   "metadata": {},
   "outputs": [],
   "source": [
    "numPages property gives the number of pages in the PDF file.\n",
    "pageObj = pdfReader.getPage(0)"
   ]
  },
  {
   "cell_type": "markdown",
   "id": "17fb90e5",
   "metadata": {},
   "source": [
    "4. If a PdfFileReader objects PDF is encrypted with the password swordfish, what must you do before you can obtain page objects from it?"
   ]
  },
  {
   "cell_type": "code",
   "execution_count": null,
   "id": "6ecdc508",
   "metadata": {},
   "outputs": [],
   "source": [
    "Before we obtain the page object, the pdf has to be decrypted by calling .decrypt('swordfish')"
   ]
  },
  {
   "cell_type": "markdown",
   "id": "6e98267e",
   "metadata": {},
   "source": [
    " 5. What method do you use to rotate a page?"
   ]
  },
  {
   "cell_type": "code",
   "execution_count": null,
   "id": "f4d0a50d",
   "metadata": {},
   "outputs": [],
   "source": [
    "The rotateClockwise() and rotateCounterClockwise() methods are used to rotate a page. The degrees to rotate is passed as an integer argument\n",
    "\n",
    "e.g: pageObj.rotateClockwise(180)"
   ]
  },
  {
   "cell_type": "markdown",
   "id": "ce62959f",
   "metadata": {},
   "source": [
    "6. What is difference between a Run object and a Paragraph object?"
   ]
  },
  {
   "cell_type": "markdown",
   "id": "cd8bfeda",
   "metadata": {},
   "source": [
    "ANS:"
   ]
  },
  {
   "cell_type": "code",
   "execution_count": null,
   "id": "605c87d1",
   "metadata": {},
   "outputs": [],
   "source": [
    "Paragraph Object : A document contains multiple paragraphs. A paragraph begins on a new line and contains multiple runs. The Document object contains a list of Paragraph objects for the paragraphs in the document. (A new paragraph begins whenever the user presses ENTER or RETURN while typing in a Word document.)\n",
    "Run Objects : Runs are contiguous groups of characters within a paragraph with the same style"
   ]
  },
  {
   "cell_type": "markdown",
   "id": "3b1b7eaa",
   "metadata": {},
   "source": [
    "7. How do you obtain a list of paragraph objects for a document object that,s stored in a variable named doc?"
   ]
  },
  {
   "cell_type": "code",
   "execution_count": null,
   "id": "fc77f8f7",
   "metadata": {},
   "outputs": [],
   "source": [
    "import docx\n",
    "doc = docx.Document('abc.docx')\n",
    "doc.paragraphs"
   ]
  },
  {
   "cell_type": "markdown",
   "id": "ce8147b6",
   "metadata": {},
   "source": [
    "8. What type of objects has bold, underline, italic, strike and outline variables?"
   ]
  },
  {
   "cell_type": "code",
   "execution_count": null,
   "id": "f7df7d98",
   "metadata": {},
   "outputs": [],
   "source": [
    "A Run object has bold, underline,italic,strike and outline variables."
   ]
  },
  {
   "cell_type": "markdown",
   "id": "85711ea1",
   "metadata": {},
   "source": [
    "9. What is the difference between False, True and None for the bold variable?"
   ]
  },
  {
   "cell_type": "code",
   "execution_count": null,
   "id": "34e9f34d",
   "metadata": {},
   "outputs": [],
   "source": [
    "Runs can be further styled using text attributes. Each attribute can be set to one of three values:\n",
    "True (the attribute is always enabled, no matter what other styles are applied to the run),\n",
    "False (the attribute is always disabled),\n",
    "None (defaults to whatever the run’s style is set to).\n",
    "\n",
    "True always makes the Run object bolded and False makes it always not bolded, no matter what the style’s bold setting is. None will make the Run object just use the style’s bold setting"
   ]
  },
  {
   "cell_type": "markdown",
   "id": "41869fa8",
   "metadata": {},
   "source": [
    "10. How do you create a document object for a new Word document?"
   ]
  },
  {
   "cell_type": "code",
   "execution_count": null,
   "id": "2755a2a2",
   "metadata": {},
   "outputs": [],
   "source": [
    "By Calling the docx.Document() function you can create a documuent object for a new Word document."
   ]
  },
  {
   "cell_type": "markdown",
   "id": "4efabbf6",
   "metadata": {},
   "source": [
    "11. How do you add a paragraph with the text 'Hello, there!' to a Document object stored in a variable named doc?"
   ]
  },
  {
   "cell_type": "code",
   "execution_count": null,
   "id": "3d451aa8",
   "metadata": {},
   "outputs": [],
   "source": [
    "import docx\n",
    "doc = docx.Document()\n",
    "\n",
    "doc.add_paragraph('Hello there!')\n",
    "doc.save('hellothere.docx')"
   ]
  },
  {
   "cell_type": "markdown",
   "id": "125ed6e0",
   "metadata": {},
   "source": [
    "12. What integers represent the levels of headings avilable in a Word documents?"
   ]
  },
  {
   "cell_type": "code",
   "execution_count": null,
   "id": "21acd093",
   "metadata": {},
   "outputs": [],
   "source": [
    "Integer from 0 to 4 represent the level of headings.\n",
    "The arguments to add_heading() are a string of the heading text and an integer from 0 to 4. The integer 0 makes the heading the Title style, which is used for the top of the document. Integers 1 to 4 are for various heading levels, with 1 being the main heading and 4 the lowest subheading"
   ]
  }
 ],
 "metadata": {
  "kernelspec": {
   "display_name": "Python 3 (ipykernel)",
   "language": "python",
   "name": "python3"
  },
  "language_info": {
   "codemirror_mode": {
    "name": "ipython",
    "version": 3
   },
   "file_extension": ".py",
   "mimetype": "text/x-python",
   "name": "python",
   "nbconvert_exporter": "python",
   "pygments_lexer": "ipython3",
   "version": "3.9.7"
  }
 },
 "nbformat": 4,
 "nbformat_minor": 5
}
