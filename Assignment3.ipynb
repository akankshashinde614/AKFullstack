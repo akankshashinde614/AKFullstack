{
 "cells": [
  {
   "cell_type": "code",
   "execution_count": null,
   "id": "4b963fab",
   "metadata": {},
   "outputs": [],
   "source": [
    "1.Why are functions advantageous to have in your programs?\n",
    "\n",
    "ANSWER:\n",
    "    The advantage of using function in program is to reducing duplication of code"
   ]
  },
  {
   "cell_type": "code",
   "execution_count": null,
   "id": "27fc66cc",
   "metadata": {},
   "outputs": [],
   "source": [
    "2.When does the code in a function run: When its specified or when its called?\n",
    "    \n",
    "ANSWER\n",
    "   When a function is \"called\" the program leaves the current section of code and begins to execute the first line inside the function."
   ]
  },
  {
   "cell_type": "code",
   "execution_count": null,
   "id": "882772d7",
   "metadata": {},
   "outputs": [],
   "source": [
    "3.What statement creates a function?\n",
    "\n",
    "ANSWER:\n",
    "    The def statement creates a function."
   ]
  },
  {
   "cell_type": "code",
   "execution_count": null,
   "id": "8be49537",
   "metadata": {},
   "outputs": [],
   "source": [
    "4.What is the difference between function and function call?\n",
    "\n",
    "ANSWER:\n",
    "    The function consist a def statement and this def statement have code inside it.\n",
    "    the function call moves the program execution into function and function call evaluates function return value."
   ]
  },
  {
   "cell_type": "code",
   "execution_count": null,
   "id": "0cc80917",
   "metadata": {},
   "outputs": [],
   "source": [
    "5.How many global scopes are there in python program? How many local scopes?\n",
    "\n",
    "ANSWER:\n",
    "    In python program there is 1 global scope and local scope is created whenever function is created."
   ]
  },
  {
   "cell_type": "code",
   "execution_count": null,
   "id": "9413716b",
   "metadata": {},
   "outputs": [],
   "source": [
    "6.What happens to a variable in local scopes when a function call returns?\n",
    "\n",
    "ANSWER:\n",
    "    When function call returns the local scope is destroyed and all functions are forgotten."
   ]
  },
  {
   "cell_type": "code",
   "execution_count": null,
   "id": "00be9457",
   "metadata": {},
   "outputs": [],
   "source": [
    "7.What is the concept of return value?It is possible to have return value in an expression?\n",
    "\n",
    "ANSWER:\n",
    "   The value which function call evaluate is return value.It is possible to have return value in an expression. "
   ]
  },
  {
   "cell_type": "code",
   "execution_count": null,
   "id": "686bb6ef",
   "metadata": {},
   "outputs": [],
   "source": [
    "8.If a function does not have return statement, what is the return value of call to that function?\n",
    "\n",
    "ANSWER:\n",
    "  If a function does not have return statement then return value of call is none."
   ]
  },
  {
   "cell_type": "code",
   "execution_count": null,
   "id": "9e74dc38",
   "metadata": {},
   "outputs": [],
   "source": [
    "9.How do you make a function variable refer to a global variable?\n",
    "\n",
    "ANSWER:\n",
    "    The global statement force variable in a function to refer to a global variable.\n",
    "    "
   ]
  },
  {
   "cell_type": "code",
   "execution_count": null,
   "id": "5cab9266",
   "metadata": {},
   "outputs": [],
   "source": [
    "10.What is the data type of none?\n",
    "\n",
    "ANSWER:\n",
    "    The data type of none is none type."
   ]
  },
  {
   "cell_type": "code",
   "execution_count": null,
   "id": "2248dae2",
   "metadata": {},
   "outputs": [],
   "source": [
    "11.What does the scentence import areallyourpetsnamederic do?\n",
    "\n",
    "ANSWER:\n",
    "    The import statement import module name areallpetsnamederic."
   ]
  },
  {
   "cell_type": "code",
   "execution_count": null,
   "id": "83c69a62",
   "metadata": {},
   "outputs": [],
   "source": [
    "12.If you had a bacon() feature in a spam model, what would you call it after importing spam?\n",
    "\n",
    "ANSWER:\n",
    "    This function is called by using spam.bacon()"
   ]
  },
  {
   "cell_type": "code",
   "execution_count": null,
   "id": "8ec9f988",
   "metadata": {},
   "outputs": [],
   "source": [
    "13. What can you do to save the program from crashing if it encounters an error?\n",
    "\n",
    "ANSWER:\n",
    "    Place the line of code that might cause an error in a try clause."
   ]
  },
  {
   "cell_type": "code",
   "execution_count": null,
   "id": "1b0dd613",
   "metadata": {},
   "outputs": [],
   "source": [
    "14.What is the purpose of try clause? What is the purpose of except clause?\n",
    "\n",
    "ANSWER:\n",
    "    The code that could potentially causes an error in a try clause.\n",
    "    The code that executes if an error happens goes in the except clause."
   ]
  }
 ],
 "metadata": {
  "kernelspec": {
   "display_name": "Python 3 (ipykernel)",
   "language": "python",
   "name": "python3"
  },
  "language_info": {
   "codemirror_mode": {
    "name": "ipython",
    "version": 3
   },
   "file_extension": ".py",
   "mimetype": "text/x-python",
   "name": "python",
   "nbconvert_exporter": "python",
   "pygments_lexer": "ipython3",
   "version": "3.9.7"
  }
 },
 "nbformat": 4,
 "nbformat_minor": 5
}
