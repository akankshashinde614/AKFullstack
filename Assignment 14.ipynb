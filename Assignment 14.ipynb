{
 "cells": [
  {
   "cell_type": "markdown",
   "id": "5eb14273",
   "metadata": {},
   "source": [
    "1. What does RGBA stand for?"
   ]
  },
  {
   "cell_type": "code",
   "execution_count": null,
   "id": "7a935752",
   "metadata": {},
   "outputs": [],
   "source": [
    "RGBA stands for Red-Green-Blue-Alpha"
   ]
  },
  {
   "cell_type": "markdown",
   "id": "7fe822af",
   "metadata": {},
   "source": [
    "2. From the pillow module, how do you get RGBA value of any images?"
   ]
  },
  {
   "cell_type": "code",
   "execution_count": null,
   "id": "c24e5550",
   "metadata": {},
   "outputs": [],
   "source": [
    "1.import the Image module from the Pillow library\n",
    "2. Open any image and get the RAGBAG values.\n",
    "3.Change the color \n",
    "4.Store the changed image.\n"
   ]
  },
  {
   "cell_type": "markdown",
   "id": "0966730c",
   "metadata": {},
   "source": [
    "3. What is a box tuple, and how does it work?"
   ]
  },
  {
   "cell_type": "code",
   "execution_count": null,
   "id": "827945d5",
   "metadata": {},
   "outputs": [],
   "source": [
    "A box tuple is a tuple value of four integers: the left edge x-coordinate, the top edge y-coordinate, the width, and the height, respectively."
   ]
  },
  {
   "cell_type": "markdown",
   "id": "337b99cf",
   "metadata": {},
   "source": [
    "4. Use your image and load in notebook then, How can you find out the width and height of an image object?"
   ]
  },
  {
   "cell_type": "code",
   "execution_count": 1,
   "id": "a1739be3",
   "metadata": {},
   "outputs": [
    {
     "name": "stdout",
     "output_type": "stream",
     "text": [
      "Requirement already satisfied: pillow in c:\\users\\my pc\\anaconda3\\lib\\site-packages (8.4.0)Note: you may need to restart the kernel to use updated packages.\n",
      "\n"
     ]
    }
   ],
   "source": [
    "pip install pillow"
   ]
  },
  {
   "cell_type": "code",
   "execution_count": 7,
   "id": "262d0f54",
   "metadata": {},
   "outputs": [
    {
     "name": "stdout",
     "output_type": "stream",
     "text": [
      "The height of the image is:  164\n",
      "The width of the image is:  580\n"
     ]
    }
   ],
   "source": [
    "from PIL import Image\n",
    "filepath = \"python-logo.png\"\n",
    "img = Image.open(filepath)\n",
    "width = img.width\n",
    "height = img.height\n",
    "print(\"The height of the image is: \", height)\n",
    "print(\"The width of the image is: \", width)"
   ]
  },
  {
   "cell_type": "markdown",
   "id": "2e012f93",
   "metadata": {},
   "source": [
    "5. What method would you call to get image object for a 100*100 image ,excluding the lower-left quarter of it?"
   ]
  },
  {
   "cell_type": "code",
   "execution_count": null,
   "id": "54564aa8",
   "metadata": {},
   "outputs": [],
   "source": [
    "imageObj.size() method we have to call to get image object for a 100*100 image, exclauding the lower-left quarter of it."
   ]
  },
  {
   "cell_type": "markdown",
   "id": "41eb4397",
   "metadata": {},
   "source": [
    "6. After making changes to an image object, how could you save it as an image file?"
   ]
  },
  {
   "cell_type": "code",
   "execution_count": null,
   "id": "08b70c4e",
   "metadata": {},
   "outputs": [],
   "source": [
    "By using Image.save() method you save image object as an image file."
   ]
  },
  {
   "cell_type": "markdown",
   "id": "c8279e3d",
   "metadata": {},
   "source": [
    "7. What module contains pillow's shape-drawing code?"
   ]
  },
  {
   "cell_type": "code",
   "execution_count": null,
   "id": "1b650048",
   "metadata": {},
   "outputs": [],
   "source": [
    "ImageDraw module contains pillows shape-drawing code."
   ]
  },
  {
   "cell_type": "markdown",
   "id": "86804123",
   "metadata": {},
   "source": [
    "8. Image objects do not have drawing methods. What kind of objects does? How do you get this kind of object?"
   ]
  },
  {
   "cell_type": "code",
   "execution_count": null,
   "id": "eb231513",
   "metadata": {},
   "outputs": [],
   "source": [
    "ImageDraw objects have shape-drawing methods such as point(), line(), or rectangle(). They are returned by passing the Image object to the ImageDraw.Draw() function."
   ]
  }
 ],
 "metadata": {
  "kernelspec": {
   "display_name": "Python 3 (ipykernel)",
   "language": "python",
   "name": "python3"
  },
  "language_info": {
   "codemirror_mode": {
    "name": "ipython",
    "version": 3
   },
   "file_extension": ".py",
   "mimetype": "text/x-python",
   "name": "python",
   "nbconvert_exporter": "python",
   "pygments_lexer": "ipython3",
   "version": "3.9.7"
  }
 },
 "nbformat": 4,
 "nbformat_minor": 5
}
