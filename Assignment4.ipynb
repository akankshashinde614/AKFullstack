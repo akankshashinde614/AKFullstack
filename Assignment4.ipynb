{
 "cells": [
  {
   "cell_type": "code",
   "execution_count": null,
   "id": "efdabef5",
   "metadata": {},
   "outputs": [],
   "source": [
    "1. What exactly is[]?\n",
    "\n",
    "ANSWER:\n",
    "    [] is a empty list value which contain no value"
   ]
  },
  {
   "cell_type": "code",
   "execution_count": null,
   "id": "39800c98",
   "metadata": {},
   "outputs": [],
   "source": [
    "In a list of values stored in a variable called spam, how would you assign the value 'hello' as the third value?\n",
    "(assume[2,46,8,10] are in spam).\n",
    "\n",
    "ANSWER:\n",
    "    The index start from 0 so values stored in a variable spam is:\n",
    "        spam[2]='hello'"
   ]
  },
  {
   "cell_type": "code",
   "execution_count": null,
   "id": "4d3ab38c",
   "metadata": {},
   "outputs": [],
   "source": [
    "lets pretend the spam includes the list ['a','b','c','d'] for the next three queries."
   ]
  },
  {
   "cell_type": "code",
   "execution_count": 13,
   "id": "1a45bf64",
   "metadata": {},
   "outputs": [
    {
     "data": {
      "text/plain": [
       "['a', 'b']"
      ]
     },
     "execution_count": 13,
     "metadata": {},
     "output_type": "execute_result"
    }
   ],
   "source": [
    "spam=['a','b','c','d']\n",
    "spam[:2]"
   ]
  },
  {
   "cell_type": "code",
   "execution_count": null,
   "id": "77cffce1",
   "metadata": {},
   "outputs": [],
   "source": [
    "3.What is the value of spam[int(int('3'*2)/11)]?\n",
    "\n",
    "ANSWER:\n",
    "    spam=['a','b','c','d']\n",
    "    spam[int(int('3'*2)/11)]\n",
    "        the value of spam[int(int('3'*2)/11)] is 'd'.\n",
    "    "
   ]
  },
  {
   "cell_type": "code",
   "execution_count": null,
   "id": "4c41839e",
   "metadata": {},
   "outputs": [],
   "source": [
    "4.What is the value of spam[-1]?\n",
    "\n",
    "ANSWER:\n",
    "    spam=['a','b','c','d']\n",
    "    spam[-1]\n",
    "    Negative index always count from end  hence value of spam[-1] is 'd'"
   ]
  },
  {
   "cell_type": "code",
   "execution_count": null,
   "id": "b1ce9771",
   "metadata": {},
   "outputs": [],
   "source": [
    "5.What is the value of spam[:2]?\n",
    "\n",
    "ANSWER:\n",
    "    spam=['a','b','c','d']\n",
    "    spam[:2]\n",
    "    value of spam[:2] is ['a','b']"
   ]
  },
  {
   "cell_type": "code",
   "execution_count": null,
   "id": "a0044200",
   "metadata": {},
   "outputs": [],
   "source": [
    "6.lets pretend bacon has the list[3.14,'cat',11,'cat', True] for the next three questions."
   ]
  },
  {
   "cell_type": "code",
   "execution_count": 19,
   "id": "cff98919",
   "metadata": {},
   "outputs": [
    {
     "data": {
      "text/plain": [
       "[3.14, 11, 'cat', True]"
      ]
     },
     "execution_count": 19,
     "metadata": {},
     "output_type": "execute_result"
    }
   ],
   "source": [
    "bacon=[3.14,'cat',11,'cat', True]\n",
    "bacon.remove('cat')\n",
    "bacon"
   ]
  },
  {
   "cell_type": "code",
   "execution_count": null,
   "id": "076eaa60",
   "metadata": {},
   "outputs": [],
   "source": [
    "6.What is the value of bacon.index('cat')?\n",
    "\n",
    "ANSWER:\n",
    "    bacon=[3.14,'cat',11,'cat', True]\n",
    "    bacon.index('cat')\n",
    "output:1\n",
    "    The value of bacon.index('cat') is 1\n",
    "    "
   ]
  },
  {
   "cell_type": "code",
   "execution_count": null,
   "id": "1c4da6f1",
   "metadata": {},
   "outputs": [],
   "source": [
    "7.How does bacon.append(99) change the look of the list value in bacon?\n",
    "\n",
    "ANSWER:\n",
    "    bacon=[3.14,'cat',11,'cat', True]\n",
    "    bacon.append(99)\n",
    "    bacon\n",
    "output:[3.14, 'cat', 11, 'cat', True, 99]\n"
   ]
  },
  {
   "cell_type": "code",
   "execution_count": null,
   "id": "0329f8cb",
   "metadata": {},
   "outputs": [],
   "source": [
    "8.How does bacon.remove('cat') change the look of the list in bacon?\n",
    "\n",
    "ANSWER:\n",
    "    bacon=[3.14,'cat',11,'cat', True]\n",
    "    bacon.remove('cat')\n",
    "    bacon\n",
    "OUTPUT:[3.14, 11, 'cat', True]"
   ]
  },
  {
   "cell_type": "code",
   "execution_count": null,
   "id": "4e206d6e",
   "metadata": {},
   "outputs": [],
   "source": [
    "9. What are the list concatination and list replication operators?\n",
    "\n",
    "ANSWER:\n",
    "    Operator for list concatination is + and for replication *. "
   ]
  },
  {
   "cell_type": "code",
   "execution_count": null,
   "id": "8c0cf948",
   "metadata": {},
   "outputs": [],
   "source": [
    "10.What is the difference between the list methods append() and insert()?\n",
    "\n",
    "ANSWER:\n",
    "    append() will add the values at the end of list and insert will add values anywhere in list.\n",
    "    "
   ]
  },
  {
   "cell_type": "code",
   "execution_count": null,
   "id": "58ad36de",
   "metadata": {},
   "outputs": [],
   "source": [
    "11.What are the two methods for removing items from a list?\n",
    "\n",
    "ANSWER:\n",
    "    remove() list and del statement are the two methods for removing items from a list"
   ]
  },
  {
   "cell_type": "code",
   "execution_count": null,
   "id": "4174d2ab",
   "metadata": {},
   "outputs": [],
   "source": [
    "12.Describe how string values and list values are identical?\n",
    "\n",
    "ANSWER:\n",
    "    Both lists and strings can be passed to len(), have indexes and slices, be used in for loops, be concatenated or replicated, and be used with the in and not in operators.\n",
    "\n"
   ]
  },
  {
   "cell_type": "code",
   "execution_count": null,
   "id": "775385f9",
   "metadata": {},
   "outputs": [],
   "source": [
    "13. What is the difference between tuples and list?\n",
    "\n",
    "ANSWER:\n",
    "         TUPLES                                              LIST\n",
    "1.Tuples are immutable, they cannot be changed at all    1.Lists are mutable, they can have values added,removed or changed.\n",
    "2.Tuples are written using parentheses()                 2.Lists use the square brackets[]"
   ]
  },
  {
   "cell_type": "code",
   "execution_count": null,
   "id": "910e4d3c",
   "metadata": {},
   "outputs": [],
   "source": [
    "14.How do you type a tuple value that only contains the integer 42?\n",
    "\n",
    "ANSWER:\n",
    "    We only have to type(42,)."
   ]
  },
  {
   "cell_type": "code",
   "execution_count": null,
   "id": "8d646601",
   "metadata": {},
   "outputs": [],
   "source": [
    "15.How do you get a list values tuple form? How do you get a tuple values list form?\n",
    "\n",
    "ANSWER:\n",
    "    To get list values tuple form use tuple() function, and to get tuple values list form use list() function."
   ]
  },
  {
   "cell_type": "code",
   "execution_count": null,
   "id": "20f55ead",
   "metadata": {},
   "outputs": [],
   "source": [
    "16.Variable that \"contains\" list values are not necessarily lists themselves. Instead, what do they contain?\n",
    "\n",
    "ANSWER:\n",
    "    They contain referances to list values"
   ]
  },
  {
   "cell_type": "code",
   "execution_count": null,
   "id": "9bfb0e33",
   "metadata": {},
   "outputs": [],
   "source": [
    "17.How do you distinguish between copy.copy(),copy.deepcopy()?\n",
    "\n",
    "ANSWER:\n",
    "    The copy.copy() function will do a shallow copy of a list, while the copy.deepcopy() function will do a deep copy of a list. \n",
    "That is, only copy.deepcopy() will duplicate any lists inside the list.\n",
    "\n"
   ]
  }
 ],
 "metadata": {
  "kernelspec": {
   "display_name": "Python 3 (ipykernel)",
   "language": "python",
   "name": "python3"
  },
  "language_info": {
   "codemirror_mode": {
    "name": "ipython",
    "version": 3
   },
   "file_extension": ".py",
   "mimetype": "text/x-python",
   "name": "python",
   "nbconvert_exporter": "python",
   "pygments_lexer": "ipython3",
   "version": "3.9.7"
  }
 },
 "nbformat": 4,
 "nbformat_minor": 5
}
