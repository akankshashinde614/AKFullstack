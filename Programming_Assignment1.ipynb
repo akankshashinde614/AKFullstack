{
 "cells": [
  {
   "cell_type": "markdown",
   "id": "9b15c895",
   "metadata": {},
   "source": [
    "1. Write a Python program to print &quot;Hello Python&quot;?"
   ]
  },
  {
   "cell_type": "code",
   "execution_count": 2,
   "id": "e0580ea0",
   "metadata": {},
   "outputs": [
    {
     "name": "stdout",
     "output_type": "stream",
     "text": [
      "hello\n"
     ]
    }
   ],
   "source": [
    "print('hello')"
   ]
  },
  {
   "cell_type": "markdown",
   "id": "836040ed",
   "metadata": {},
   "source": [
    "2. Write a Python program to do arithmetical operations addition and division.?"
   ]
  },
  {
   "cell_type": "code",
   "execution_count": 4,
   "id": "4f707241",
   "metadata": {},
   "outputs": [
    {
     "name": "stdout",
     "output_type": "stream",
     "text": [
      "Addition of numbers= 9\n",
      "Division of numbers= 2.0\n"
     ]
    }
   ],
   "source": [
    "a=6\n",
    "b=3\n",
    "c=a+b\n",
    "print('Addition of numbers=',c)\n",
    "d=a/b\n",
    "print('Division of numbers=',d)"
   ]
  },
  {
   "cell_type": "markdown",
   "id": "3183741f",
   "metadata": {},
   "source": [
    "3. Write a Python program to find the area of a triangle?"
   ]
  },
  {
   "cell_type": "code",
   "execution_count": 7,
   "id": "0e1b9c26",
   "metadata": {},
   "outputs": [
    {
     "name": "stdout",
     "output_type": "stream",
     "text": [
      "Area of traingle= 9.0\n"
     ]
    }
   ],
   "source": [
    "base=6\n",
    "height=3\n",
    "area=(1/2)*(base*height)\n",
    "print('Area of traingle=' , area)"
   ]
  },
  {
   "cell_type": "markdown",
   "id": "e2d5d503",
   "metadata": {},
   "source": [
    "4. Write a Python program to swap two variables?"
   ]
  },
  {
   "cell_type": "code",
   "execution_count": 18,
   "id": "516c753f",
   "metadata": {},
   "outputs": [
    {
     "name": "stdout",
     "output_type": "stream",
     "text": [
      "value of a after swapping are :3\n",
      "value of b after swapping are :2\n"
     ]
    }
   ],
   "source": [
    "a=2\n",
    "b=3\n",
    "temp=a\n",
    "a=b\n",
    "b=temp\n",
    "print('value of a after swapping are :{}'.format(a))\n",
    "print('value of b after swapping are :{}'.format(b))\n"
   ]
  },
  {
   "cell_type": "markdown",
   "id": "a2d1b20c",
   "metadata": {},
   "source": [
    "5. Write a Python program to generate a random number? "
   ]
  },
  {
   "cell_type": "code",
   "execution_count": 25,
   "id": "fe112cfa",
   "metadata": {},
   "outputs": [
    {
     "name": "stdout",
     "output_type": "stream",
     "text": [
      "13\n"
     ]
    }
   ],
   "source": [
    "import random\n",
    "print(random.randint(0,20))"
   ]
  }
 ],
 "metadata": {
  "kernelspec": {
   "display_name": "Python 3 (ipykernel)",
   "language": "python",
   "name": "python3"
  },
  "language_info": {
   "codemirror_mode": {
    "name": "ipython",
    "version": 3
   },
   "file_extension": ".py",
   "mimetype": "text/x-python",
   "name": "python",
   "nbconvert_exporter": "python",
   "pygments_lexer": "ipython3",
   "version": "3.9.7"
  }
 },
 "nbformat": 4,
 "nbformat_minor": 5
}
