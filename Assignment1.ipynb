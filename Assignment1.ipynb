{
 "cells": [
  {
   "cell_type": "markdown",
   "id": "ce2f384c",
   "metadata": {},
   "source": [
    "1. In the below elements which of them are values or an expression? \n",
    "\n",
    "ANSWER:\n",
    "   Values : *, -, /, + these are the values\n",
    "Expression : 'hello', -87.8"
   ]
  },
  {
   "cell_type": "markdown",
   "id": "c307eba8",
   "metadata": {},
   "source": [
    "2. what is the difference between string and variable?\n",
    "\n",
    "ANSWER:\n",
    "        STRING                        VARIABLE\n",
    "1.String is nothing but the      1.Variable are symbols that can \n",
    "   data .                          use to store data in program.\n",
    "2.It can br declared by using    2.It can be declared by    \n",
    "  single(''), double(\"\") or         assigning value without \n",
    "  triple('''  ''') quotes.          quotes.\n",
    "3.e.g - a=\"welcome to python\"    3.e.g - a=10 \n",
    "  here welcome to python is          here a is variable.\n",
    "  string."
   ]
  },
  {
   "cell_type": "markdown",
   "id": "4b46d6c2",
   "metadata": {},
   "source": [
    "3. Describe three different data types.\n",
    "\n",
    "ANSWER:\n",
    "  Data type is a data storage format that can contain a specific type or range of values. There are severals types of data types,we discuss few of them in below..\n",
    "\n",
    "1.Integer:Integer is numeric data type.Integer is a whole   number, positive or negative, without decimal number. We use 'int' while declaring data type.\n",
    "e.g - a=5\n",
    "   Here a is a variable and 5 is nothing but the value. 5 is positive whole no, which is integer.\n",
    "   We can check the data type by using type(a)..\n",
    "   \n",
    "2.string: String is a text data type use as 'str' while declaring.It can br declared by using single(''), double(\"\") or  triple('''  ''') quotes.\n",
    "e.g - 'hello'\n",
    "   You can display the string by using print() statement.\n",
    "   \n",
    "3.Boolean: Boolean data type returns either true(1) or false(0) value. Generally it is used to represent the truth values of expression.\n",
    "e.g - 3<1 is false and 1==1 is true\n"
   ]
  },
  {
   "cell_type": "code",
   "execution_count": null,
   "id": "c89c11ad",
   "metadata": {},
   "outputs": [],
   "source": [
    "4. What is an expression made up of? What do all operation do?\n",
    "\n",
    "ANSWER:\n",
    "    An expression is a combination of operators, constants and \n",
    "values. An expression may consist of one or more operands and \n",
    "zero or more operators to produce a value. It constructed according to the syntax of language that evaluates a single value.\n",
    "    Among other things, expressions are used to compute and to assign values to variables and to help control the execution\n",
    "flow of a program. The job of an expression is to perform the computation indicated by the elements of the expression and \n",
    "to return a value that is the result of the computation.Each expression perform operation and return value.\n",
    "     There are several types of operation are as follows:\n",
    "1.Constant expression\n",
    "2.Arithmatic expression\n",
    "3.Logical expression\n",
    "4.Bitwise expression\n",
    "5.Relational expression\n"
   ]
  },
  {
   "cell_type": "code",
   "execution_count": null,
   "id": "42e54a58",
   "metadata": {},
   "outputs": [],
   "source": [
    "5. What is the difference between exresssion and a statement?\n",
    "\n",
    "ANSWER:\n",
    "    \n",
    "    Expression                                                                   Statement\n",
    "    \n",
    "1.An expression evaluates a value                                   1.A statement execute something\n",
    "2.The evaluation of a statement does not changes state.             2.The execution of a statement changes state\n",
    "3.Evaluation of an expression always produces or returns            3.Execution of a statement may ior may not be produce \n",
    "  a result value                                                      or displays a result value. It only does whatever the\n",
    "                                                                       statement says\n",
    "4.Every expression cannot be a statement                            4.Every statement can be an expression                      \n",
    "5. Example : a+16                                                   5.Example: x=3\n",
    "             20                                                                print(x)\n",
    "                                                                             output: 3"
   ]
  },
  {
   "cell_type": "code",
   "execution_count": null,
   "id": "399cf839",
   "metadata": {},
   "outputs": [],
   "source": [
    "6.After running the following code, what does the variable bacon contain?\n",
    "   bacon=22 \n",
    "    bacon+1\n",
    "    \n",
    "ANSWER:\n",
    "bacon=22 \n",
    "bacon+1\n",
    " value of bacon =23"
   ]
  },
  {
   "cell_type": "code",
   "execution_count": 3,
   "id": "44d9e31c",
   "metadata": {},
   "outputs": [
    {
     "data": {
      "text/plain": [
       "23"
      ]
     },
     "execution_count": 3,
     "metadata": {},
     "output_type": "execute_result"
    }
   ],
   "source": [
    "bacon=22\n",
    "bacon+1\n",
    "    "
   ]
  },
  {
   "cell_type": "code",
   "execution_count": null,
   "id": "4cc20ffe",
   "metadata": {},
   "outputs": [],
   "source": [
    "7.This assignment statement spam=10,What should the value of the following two terms be?\n",
    "  'spam'+'spamspam'\n",
    "    'spam'*3\n",
    "    \n",
    "ANSWER:\n",
    "    spam=10\n",
    "    'spam'+'spamspam'\n",
    "    'spam'*3\n",
    "The value of two terms will be same."
   ]
  },
  {
   "cell_type": "code",
   "execution_count": 9,
   "id": "17a1d892",
   "metadata": {},
   "outputs": [
    {
     "data": {
      "text/plain": [
       "'spamspamspam'"
      ]
     },
     "execution_count": 9,
     "metadata": {},
     "output_type": "execute_result"
    }
   ],
   "source": [
    "spam=10\n",
    "'spam'+'spamspam'"
   ]
  },
  {
   "cell_type": "code",
   "execution_count": 10,
   "id": "1b1fa691",
   "metadata": {},
   "outputs": [
    {
     "data": {
      "text/plain": [
       "'spamspamspam'"
      ]
     },
     "execution_count": 10,
     "metadata": {},
     "output_type": "execute_result"
    }
   ],
   "source": [
    "'spam'*3"
   ]
  },
  {
   "cell_type": "code",
   "execution_count": null,
   "id": "8016bcb0",
   "metadata": {},
   "outputs": [],
   "source": [
    "8. Why is eggs a valid variable name while 100 is invalid?\n",
    "\n",
    "ANSWER:\n",
    "    eggs is a valid variable name because variable conatins letters or '_' at the beginning.\n",
    "Variable cannot start with integer. Therefore 100 is invalid."
   ]
  },
  {
   "cell_type": "code",
   "execution_count": null,
   "id": "51af5fd2",
   "metadata": {},
   "outputs": [],
   "source": [
    "9.What three function can be used to get the integer, floating point number or string version of value?\n",
    "\n",
    "ANSWER:\n",
    "    Functions used in following:\n",
    "        Integer :int()\n",
    "        Floating point : float()\n",
    "        String : str()\n",
    "            "
   ]
  },
  {
   "cell_type": "code",
   "execution_count": null,
   "id": "76dd8081",
   "metadata": {},
   "outputs": [],
   "source": [
    "10.Why does this expression cause an error? How can you fix it?\n",
    "\n",
    "ANSWER:\n",
    "    The given expression causes an error because integer cannot concatinate with string. To fix it use typecasting."
   ]
  }
 ],
 "metadata": {
  "kernelspec": {
   "display_name": "Python 3 (ipykernel)",
   "language": "python",
   "name": "python3"
  },
  "language_info": {
   "codemirror_mode": {
    "name": "ipython",
    "version": 3
   },
   "file_extension": ".py",
   "mimetype": "text/x-python",
   "name": "python",
   "nbconvert_exporter": "python",
   "pygments_lexer": "ipython3",
   "version": "3.9.7"
  }
 },
 "nbformat": 4,
 "nbformat_minor": 5
}
