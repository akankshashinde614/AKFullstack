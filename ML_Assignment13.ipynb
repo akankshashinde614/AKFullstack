{
 "cells": [
  {
   "cell_type": "markdown",
   "id": "39ce9900",
   "metadata": {},
   "source": [
    "# Question-1. \n",
    "Provide an example of the concepts of Prior, Posterior, and Likelihood."
   ]
  },
  {
   "cell_type": "code",
   "execution_count": null,
   "id": "abc3ebb1",
   "metadata": {},
   "outputs": [],
   "source": [
    "Posterior = Prior * Likelihood\n",
    "\n",
    "This can also be stated as P (A | B) = (P (B | A) * P(A)) / P(B) , where P(A|B) is the probability of A given B, also called posterior.\n",
    "\n",
    "Prior: Probability distribution representing knowledge or uncertainty of a data object prior or before observing it\n",
    "\n",
    "Posterior: Conditional probability distribution representing what parameters are likely after observing the data object\n",
    "\n",
    "Likelihood: The probability of falling under a specific category or class."
   ]
  },
  {
   "cell_type": "markdown",
   "id": "fc2a3a2d",
   "metadata": {},
   "source": [
    "# Question-2. \n",
    "What role does Bayes theorem play in the concept learning principle?"
   ]
  },
  {
   "cell_type": "code",
   "execution_count": null,
   "id": "e4a59576",
   "metadata": {},
   "outputs": [],
   "source": [
    "Bayes Theorem is also used widely in machine learning, where it is a simple, effective way to predict classes with precision and accuracy. The Bayesian method of calculating conditional probabilities is used in machine learning applications that involve classification tasks"
   ]
  },
  {
   "cell_type": "markdown",
   "id": "cd4b1e6c",
   "metadata": {},
   "source": [
    "# Question-3. \n",
    "Offer an example of how the Nave Bayes classifier is used in real life."
   ]
  },
  {
   "cell_type": "code",
   "execution_count": null,
   "id": "c346a7d8",
   "metadata": {},
   "outputs": [],
   "source": [
    "It is used for Credit Scoring. It is used in medical data classification. It can be used in real-time predictions because Naïve Bayes Classifier is an eager learner. It is used in Text classification such as Spam filtering and Sentiment analysis."
   ]
  },
  {
   "cell_type": "markdown",
   "id": "7cfc143e",
   "metadata": {},
   "source": [
    "# Question-4.\n",
    "Can the Nave Bayes classifier be used on continuous numeric data? If so, how can you go about doing it?"
   ]
  },
  {
   "cell_type": "code",
   "execution_count": null,
   "id": "d1e24a29",
   "metadata": {},
   "outputs": [],
   "source": [
    "Naive Bayes classification can be used with numeric predictor values, such as a height of 5.75 feet, or with categorical predictor values such as a height of \"tall\"."
   ]
  },
  {
   "cell_type": "markdown",
   "id": "2e042eda",
   "metadata": {},
   "source": [
    "# Question-5.\n",
    "What are Bayesian Belief Networks, and how do they work? What are their applications? Are they capable of resolving a wide range of issues?"
   ]
  },
  {
   "cell_type": "code",
   "execution_count": null,
   "id": "59ea789f",
   "metadata": {},
   "outputs": [],
   "source": [
    "Bayesian Belief Network is a graphical representation of different probabilistic relationships among random variables in a particular set. It is a classifier with no dependency on attributes i.e it is condition independent."
   ]
  },
  {
   "cell_type": "markdown",
   "id": "f6836949",
   "metadata": {},
   "source": [
    "# Question-6.\n",
    "Passengers are checked in an airport screening system to see if there is an intruder. Let I be the random variable that indicates whether someone is an intruder I = 1) or not I = 0), and A be the\n",
    "variable that indicates alarm I = 0). If an intruder is detected with probability P(A = 1|I = 1) = 0.98\n",
    "and a non-intruder is detected with probability P(A = 1|I = 0) = 0.001, an alarm will be triggered,\n",
    "implying the error factor. The likelihood of an intruder in the passenger population is P(I = 1) =\n",
    "0.00001. What are the chances that an alarm would be triggered when an individual is actually an\n",
    "intruder?"
   ]
  },
  {
   "cell_type": "code",
   "execution_count": null,
   "id": "0b81a473",
   "metadata": {},
   "outputs": [],
   "source": [
    "Solution: This can be solved directly with the Bayesian theorem.\n",
    "P(T = 1|A = 1) = P(A = 1|T = 1)P(T = 1)\n",
    "P(A = 1) (1)\n",
    "=\n",
    "P(A = 1|T = 1)P(T = 1)\n",
    "P(A = 1|T = 1)P(T = 1) + P(A = 1|T = 0)P(T = 0) (2)\n",
    "=\n",
    "0.98 × 0.00001\n",
    "0.98 × 0.00001 + 0.001 × (1 − 0.00001) = 0.0097 (3)\n",
    "≈\n",
    "0.00001\n",
    "0.001\n",
    "= 0.01 (4)\n",
    "It is interesting that even though for any passenger it can be decided with high reliability (98% and 99.9%)\n",
    "whether (s)he is a terrorist or not, if somebody gets arrested as a terrorist, (s)he is still most likely not a\n",
    "terrorist (with a probability of 99%)"
   ]
  },
  {
   "cell_type": "markdown",
   "id": "c54bd892",
   "metadata": {},
   "source": [
    "# Question-7.\n",
    "An antibiotic resistance test (random variable T) has 1% false positives (i.e., 1% of those who are\n",
    "not immune to an antibiotic display a positive result in the test) and 5% false negatives (i.e., 1% of\n",
    "those who are not resistant to an antibiotic show a positive result in the test) (i.e. 5 percent of those\n",
    "actually resistant to an antibiotic test negative). Assume that 2% of those who were screened were\n",
    "antibiotic-resistant. Calculate the likelihood that a person who tests positive is actually immune\n",
    "(random variable D)."
   ]
  },
  {
   "cell_type": "code",
   "execution_count": null,
   "id": "2d4a8fc0",
   "metadata": {},
   "outputs": [],
   "source": [
    "Solution:\n",
    "T = p means Test positive,\n",
    "T = n means Test negative,\n",
    "D = p means person takes drug,\n",
    "D = n means person does not take drugs\n",
    "We know:\n",
    "P(T = p|D = n) = 0.01 (false positives) (1)\n",
    "(false negatives) P(T = n|D = p) = 0.05 =⇒ P(T = p|D = p) = 0.95 (true positives) (2)\n",
    "P(D = p) = 0.02 =⇒ P(D = n) = 0.98 (3)\n",
    "(4)\n",
    "We want to know the probability that somebody who tests positive is actually taking drugs:\n",
    "P(D = p|T = p) = P(T = p|D = p)P(D = p)\n",
    "P(T = p)\n",
    "(Bayes theorem) (5)\n",
    "We do not know P(T = p):\n",
    "P(T = p) = P(T = p|D = p)P(D = p) + P(T = p|D = n)P(D = n) (6)\n",
    "\n",
    "We get:\n",
    "P(D = p|T = p) = P(T = p|D = p)P(D = p)\n",
    "P(T = p)\n",
    "(7)\n",
    "=\n",
    "P(T = p|D = p)P(D = p)\n",
    "P(T = p|D = p)P(D = p) + P(T = p|D = n)P(D = n)\n",
    "(8)\n",
    "=\n",
    "0.95 · 0.02\n",
    "0.95 · 0.02 + 0.01 · 0.98\n",
    "(9)\n",
    "= 0.019/0.0288 ≈ 0.66 (10)\n",
    "There is a chance of only two thirds that someone with a positive test is actually taking drugs.\n",
    "An alternative way to solve this exercise is using decision trees. Let’s assume there are 1000 people tested.\n",
    "What would the result look like?\n",
    "Figure: (Uknown)\n",
    "Now we can put this together in a contingency table:\n",
    "D = p D = n sum\n",
    "T = p 19 9.8 28.8\n",
    "T = n 1 970.2 971.2\n",
    "sum 20 980 1000\n",
    "To determine the probability that somebody who tests positive is actually taking drugs we have to calculate:\n",
    "taking drugs and positive test\n",
    "all positive test =\n",
    "19\n",
    "28.8\n",
    "≈ 0.66 (11)"
   ]
  },
  {
   "cell_type": "markdown",
   "id": "8c9d72fd",
   "metadata": {},
   "source": [
    "# Question-8.\n",
    "In order to prepare for the test, a student knows that there will be one question in the exam that\n",
    "is either form A, B, or C. The chances of getting an A, B, or C on the exam are 30 percent, 20%, and\n",
    "50 percent, respectively. During the planning, the student solved 9 of 10 type A problems, 2 of 10\n",
    "type B problems, and 6 of 10 type C problems.\n",
    "\n",
    "1. What is the likelihood that the student can solve the exam problem?\n",
    "\n",
    "2. Given the student&#39;s solution, what is the likelihood that the problem was of form A?"
   ]
  },
  {
   "cell_type": "code",
   "execution_count": null,
   "id": "eaadee6e",
   "metadata": {},
   "outputs": [],
   "source": [
    "(a) What is the probability that you will solve the problem of the exam?\n",
    "\n",
    "Solution: The probability to solve the problem of the exam is the probability of getting a problem of\n",
    "a certain type times the probability of solving such a problem, summed over all types. This is known\n",
    "as the total probability.\n",
    "P(solved) = P(solved|A)P(A) + P(solved|B)P(B) + P(solved|C)P(C) (1)\n",
    "= 9/10 · 30% + 2/10 · 20% + 6/10 · 50% (2)\n",
    "= 27/100 + 4/100 + 30/100 = 61/100 = 0.61 . (3)\n",
    "\n",
    "(b) Given you have solved the problem, what is the probability that it was of type A?\n",
    "\n",
    "Solution: For this to answer we need Bayes theorem.\n",
    "P(A|solved) = P(solved|A)P(A)\n",
    "P(solved) (4)\n",
    "=\n",
    "9/10 · 30%\n",
    "61/100\n",
    "=\n",
    "27/100\n",
    "61/100\n",
    "=\n",
    "27\n",
    "61\n",
    "= 0.442... . (5)\n",
    "(6)\n",
    "So we see that given you have solved the problem, the a posteriori probability that the problem was of\n",
    "type A is greater than its a priori probability of 30%, because problems of type A are relatively easy\n",
    "to solve.\n"
   ]
  },
  {
   "cell_type": "markdown",
   "id": "b9d627cd",
   "metadata": {},
   "source": [
    "# Question-9.\n",
    "A bank installs a CCTV system to track and photograph incoming customers. Despite the constant\n",
    "influx of customers, we divide the timeline into 5 minute bins. There may be a customer coming into\n",
    "the bank with a 5% chance in each 5-minute time period, or there may be no customer (again, for\n",
    "simplicity, we assume that either there is 1 customer or none, not the case of multiple customers). If\n",
    "\n",
    "there is a client, the CCTV will detect them with a 99 percent probability. If there is no customer, the\n",
    "camera can take a false photograph with a 10% chance of detecting movement from other objects.\n",
    "\n",
    "1. How many customers come into the bank on a daily basis (10 hours)?\n",
    "\n",
    "2. On a daily basis, how many fake photographs (photographs taken when there is no\n",
    "customer) and how many missed photographs (photographs taken when there is a customer) are\n",
    "there?\n",
    "\n",
    "3. Explain likelihood that there is a customer if there is a photograph?"
   ]
  },
  {
   "cell_type": "code",
   "execution_count": null,
   "id": "8308c5fc",
   "metadata": {},
   "outputs": [],
   "source": [
    "1. How many customers come into the bank on a daily basis (10 hours)?\n",
    "Solution: There are 10×12 = 120 five-minute periods per day. In each period there is a probability of\n",
    "5% for an photograph being present. Thus the average number of photographs is 120×5% = 120×0.05 = 6\n",
    "2. On a daily basis, how many fake photographs (photographs taken when there is no\n",
    "customer) and how many missed photographs (photographs taken when there is a customer) are\n",
    "there?\n",
    "Solution: On average there is no photograph in 120 − 6 of the five-minute periods. This times the\n",
    "probability of 10% per period for a false customer yields (120 − 6) × 10% = 116 × 0.1 = 11.6 false\n",
    "customers.\n",
    "On average there are 6 photographs, each of which has a probability of 1% of getting missed. Thus the\n",
    "number of false no-customers is 6 × 1% = 6 × 0.01 = 0.06.\n",
    "3. Explain likelihood that there is a customer if there is a photograph?\n",
    "Solution: For this question we need Bayes theorem.\n",
    "P(photograph|customer) (1)\n",
    "=\n",
    "P(customer|photograph)P(photograph)\n",
    "P(customer) (2)\n",
    "=\n",
    "P(customer|photograph)P(photograph)\n",
    "P(customer|photograph)P(photograph) + P(customer|no photograph)P(no photograph) (3)\n",
    "=\n",
    "0.99 · 0.05\n",
    "0.99 · 0.05 + 0.1 · (1 − 0.05) = 0.342... (4)\n",
    "≈\n",
    "0.05\n",
    "0.05 + 0.1\n",
    "= 0.333... . (5)\n",
    "It might be somewhat surprising that the probability of an photograph being present given an customer is\n",
    "only 34% even though the detection of an photograph is so reliable (99%). The reason is that photographs are\n",
    "not so frequent (only 5%) and the probability for an customer given no photograph is relatively high (10%)."
   ]
  },
  {
   "cell_type": "markdown",
   "id": "62113175",
   "metadata": {},
   "source": [
    "# Question-10.\n",
    "Create the conditional probability table associated with the node Won Toss in the Bayesian Belief\n",
    "network to represent the conditional independence assumptions of the Nave Bayes classifier for the\n",
    "match winning prediction problem in Section 6.4.4."
   ]
  },
  {
   "cell_type": "code",
   "execution_count": null,
   "id": "05e1eda6",
   "metadata": {},
   "outputs": [],
   "source": []
  }
 ],
 "metadata": {
  "kernelspec": {
   "display_name": "Python 3 (ipykernel)",
   "language": "python",
   "name": "python3"
  },
  "language_info": {
   "codemirror_mode": {
    "name": "ipython",
    "version": 3
   },
   "file_extension": ".py",
   "mimetype": "text/x-python",
   "name": "python",
   "nbconvert_exporter": "python",
   "pygments_lexer": "ipython3",
   "version": "3.9.7"
  }
 },
 "nbformat": 4,
 "nbformat_minor": 5
}
