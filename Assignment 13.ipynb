{
 "cells": [
  {
   "cell_type": "markdown",
   "id": "5145121f",
   "metadata": {},
   "source": [
    "1. What advantages do Excel spreadsheets have over csv spreadsheets?"
   ]
  },
  {
   "cell_type": "code",
   "execution_count": null,
   "id": "6e3f4a41",
   "metadata": {},
   "outputs": [],
   "source": [
    "CSV files are faster and also consumes less memory whereas Excel consumes more memory while importing data."
   ]
  },
  {
   "cell_type": "markdown",
   "id": "e219f077",
   "metadata": {},
   "source": [
    "2. What do you pass to csv.reader() and csv.writer() to create reader and writer objects?"
   ]
  },
  {
   "cell_type": "code",
   "execution_count": null,
   "id": "afb60802",
   "metadata": {},
   "outputs": [],
   "source": [
    "In case of writer object firstly call open() and pass 'w' to open in write mode.This will create a object you can then pass to csv.writer() to create writer object.\n",
    "Pass a blank string for the open() function’s newline keyword argument."
   ]
  },
  {
   "cell_type": "markdown",
   "id": "188b2f51",
   "metadata": {},
   "source": [
    "3. What modes do file objects for reader and writer objects need to be opened in?"
   ]
  },
  {
   "cell_type": "code",
   "execution_count": null,
   "id": "d4d3855b",
   "metadata": {},
   "outputs": [],
   "source": [
    "There are 6 access modes in python.\n",
    "Read Only ('r') : Open text file for reading. \n",
    "Read and Write ('r+') : Open the file for reading and writing. \n",
    "Write Only ('w') : Open the file for writing. \n",
    "Write and Read ('w+') : Open the file for reading and writing. \n",
    "Append Only ('a') : Open the file for writing.\n",
    "Append and Read (‘a+’) : Open the file for reading and writing."
   ]
  },
  {
   "cell_type": "markdown",
   "id": "647e44fb",
   "metadata": {},
   "source": [
    "4. What method takes a list argument and writes it to a csv file?"
   ]
  },
  {
   "cell_type": "code",
   "execution_count": null,
   "id": "f9d427ae",
   "metadata": {},
   "outputs": [],
   "source": [
    "writerows() Method takes a list argument and writes it to a csv file."
   ]
  },
  {
   "cell_type": "markdown",
   "id": "8dfcfea4",
   "metadata": {},
   "source": [
    "5. What do the keyword arguments delimiter and line terminator do?"
   ]
  },
  {
   "cell_type": "code",
   "execution_count": null,
   "id": "105ba558",
   "metadata": {},
   "outputs": [],
   "source": [
    "The delimiter is the character that appears between cells on a row. By default, the delimiter for a CSV file is a comma. The line terminator is the character that comes at the end of a row. By default, the line terminator is a newline."
   ]
  },
  {
   "cell_type": "markdown",
   "id": "5f7192ba",
   "metadata": {},
   "source": [
    "6. What function takes a string of JSON data and returns a Python data structure?"
   ]
  },
  {
   "cell_type": "code",
   "execution_count": null,
   "id": "0a1d79d5",
   "metadata": {},
   "outputs": [],
   "source": [
    "json.loads() function takes a string of JSON data and returns a Python data structure."
   ]
  },
  {
   "cell_type": "markdown",
   "id": "e505c554",
   "metadata": {},
   "source": [
    "7. What function takes a python data structure and returns a string of JSON data?"
   ]
  },
  {
   "cell_type": "code",
   "execution_count": null,
   "id": "baa3327b",
   "metadata": {},
   "outputs": [],
   "source": [
    "json.dumps() function takes a python data structure and returns a string of JSON data."
   ]
  }
 ],
 "metadata": {
  "kernelspec": {
   "display_name": "Python 3 (ipykernel)",
   "language": "python",
   "name": "python3"
  },
  "language_info": {
   "codemirror_mode": {
    "name": "ipython",
    "version": 3
   },
   "file_extension": ".py",
   "mimetype": "text/x-python",
   "name": "python",
   "nbconvert_exporter": "python",
   "pygments_lexer": "ipython3",
   "version": "3.9.7"
  }
 },
 "nbformat": 4,
 "nbformat_minor": 5
}
