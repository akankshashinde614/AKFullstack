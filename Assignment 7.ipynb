{
 "cells": [
  {
   "cell_type": "code",
   "execution_count": null,
   "id": "5442c604",
   "metadata": {},
   "outputs": [],
   "source": [
    "1.What is the name of the feature responsible for generating Repex objects?\n",
    "\n",
    "ANSWER:\n",
    "    The re.compile() function returns Regex objects."
   ]
  },
  {
   "cell_type": "code",
   "execution_count": null,
   "id": "0f119cb5",
   "metadata": {},
   "outputs": [],
   "source": [
    "2.Why do raw strings often appear in Regex objects?\n",
    "\n",
    "ANSWER:\n",
    "    Raw strings are used so that backslashes do not have to be escaped."
   ]
  },
  {
   "cell_type": "code",
   "execution_count": null,
   "id": "c036deb2",
   "metadata": {},
   "outputs": [],
   "source": [
    "3.What is the return value of the search() method?\n",
    "\n",
    "ANSWER:\n",
    "    The search() method returns match objects."
   ]
  },
  {
   "cell_type": "code",
   "execution_count": null,
   "id": "d6ddfc0e",
   "metadata": {},
   "outputs": [],
   "source": [
    "4.From a match item, how do you get the actual strings that match the pattern?\n",
    "\n",
    "ANSWER:\n",
    "    The group() method returns strings of the matched text."
   ]
  },
  {
   "cell_type": "code",
   "execution_count": null,
   "id": "73486efc",
   "metadata": {},
   "outputs": [],
   "source": [
    "5. In the regex which crested from the r'(\\d\\d\\d)-(\\d\\d\\d-\\d\\d\\d\\d\\)', what does group zero cover?Group2?Group1?\n",
    "\n",
    "ANSWER:\n",
    "    Here Group zero is the entire match, group 2nd covers the second set of parenthesis and group 1st covers the first set of parenthesis."
   ]
  },
  {
   "cell_type": "code",
   "execution_count": null,
   "id": "f47b9ac8",
   "metadata": {},
   "outputs": [],
   "source": [
    "6.In standered expression syntax, parentheses and intervals have distinct meanings. How can you tell a regex taht you want it to fit real parentheses and periods?\n",
    "\n",
    "ANSWER:\n",
    "    Periods and parentheses can be escaped with a backslash:\\.,\\(,and\\)."
   ]
  },
  {
   "cell_type": "code",
   "execution_count": null,
   "id": "94dda88f",
   "metadata": {},
   "outputs": [],
   "source": [
    "7.The findall() method returns a string list or a list of string tuples. What causes it to return one of the two options?\n",
    "\n",
    "ANSWER:\n",
    "    If the regex has no groups, a list of strings is returned. If the regex has groups, a list of tuples of strings is returned."
   ]
  },
  {
   "cell_type": "code",
   "execution_count": null,
   "id": "66af7853",
   "metadata": {},
   "outputs": [],
   "source": [
    "8.In standered expression, what does the | character mean?\n",
    "\n",
    "ANSWER:\n",
    "    The | character signifies matching\"either, or\" between two groups. "
   ]
  },
  {
   "cell_type": "code",
   "execution_count": null,
   "id": "1718926a",
   "metadata": {},
   "outputs": [],
   "source": [
    "9. In regular expressions, what does the character stand for?\n",
    "\n",
    "ANSWER:\n",
    "    The ? character can either mean “match zero or one of the preceding group” or be used to signify nongreedy matching."
   ]
  },
  {
   "cell_type": "code",
   "execution_count": null,
   "id": "3877900a",
   "metadata": {},
   "outputs": [],
   "source": [
    "10.In regular expressions, what is the difference between the + and * character?\n",
    "\n",
    "ANSWER:\n",
    "    In regular expression + matches one or more and * matches zero or more."
   ]
  },
  {
   "cell_type": "code",
   "execution_count": null,
   "id": "27c4ac01",
   "metadata": {},
   "outputs": [],
   "source": [
    "11.What is the difference between {4}and{4,5} in regular expression?\n",
    "\n",
    "ANSWER:\n",
    "    The {4} matches exactly four instances of preceding groups. {4,5} matches between four and five instances."
   ]
  },
  {
   "cell_type": "code",
   "execution_count": null,
   "id": "5e990c13",
   "metadata": {},
   "outputs": [],
   "source": [
    "12.What do you mean by the \\d,\\w and \\s shorthand character classes signify in regular expressions?\n",
    "\n",
    "ANSWER:\n",
    "    The \\d,\\w and \\s shorthand character classes match a single digit, word and space character respectively."
   ]
  },
  {
   "cell_type": "code",
   "execution_count": null,
   "id": "2397aa0d",
   "metadata": {},
   "outputs": [],
   "source": [
    "13. What do means by \\D,\\W and \\S shorthand character classes signify in regular expressions?\n",
    "\n",
    "ANSWER:\n",
    "    The \\d,\\w, and \\s shorthand character classes match a single character that is not a digit,word and space character respectively.  "
   ]
  },
  {
   "cell_type": "code",
   "execution_count": null,
   "id": "fe999648",
   "metadata": {},
   "outputs": [],
   "source": [
    "14.What is the difference between .*? and .*?\n",
    "\n",
    "ANSWER:\n",
    "    .*? perform non greedy match and .* performs greedy match."
   ]
  },
  {
   "cell_type": "code",
   "execution_count": null,
   "id": "839bebe6",
   "metadata": {},
   "outputs": [],
   "source": [
    "15.What is the syntax for matching both numbers and lowercase letters with a character class?\n",
    "\n",
    "ANSWER:\n",
    "    Syntax for matching both numbers and lowercase letters with character class  is either [a-z 0-9] or [0-9 a-z]"
   ]
  },
  {
   "cell_type": "code",
   "execution_count": null,
   "id": "a58c2784",
   "metadata": {},
   "outputs": [],
   "source": [
    "16.What is the procedure for making a normal expression in regex case insensitive?\n",
    "\n",
    "ANSWER:\n",
    "    Passing re.I or re.IGNORECASE as the second argument to re.compile() will make the matching case insensitive."
   ]
  },
  {
   "cell_type": "code",
   "execution_count": null,
   "id": "6fc1e1e3",
   "metadata": {},
   "outputs": [],
   "source": [
    "17.What does the . character normally match? What does it matcg\n",
    "h if re.DOTALL is passed as 2nd argument in re.compile()?\n",
    "\n",
    "ANSWER:\n",
    "    The . character normally matches any character except the newline character. If re.DOTALL is passed as the second argument to re.compile(), then the dot will also match newline characters."
   ]
  },
  {
   "cell_type": "code",
   "execution_count": null,
   "id": "ee2c35ec",
   "metadata": {},
   "outputs": [],
   "source": [
    "18. If nubReg= re.compile (r'\\d+), what will nubRegex.sub ('x' '11 drummers, 10pipers, five rings, 4hen') return ?\n",
    "                           \n",
    "Answer:\n",
    "      X drummers, X pipers, five rings, X hens  "
   ]
  },
  {
   "cell_type": "code",
   "execution_count": null,
   "id": "1b6e980e",
   "metadata": {},
   "outputs": [],
   "source": [
    "19. What does passing reVERBOSE as the 2nd argumenht t re.compile() allow to do?\n",
    "\n",
    "Answer:\n",
    "    The re.VERBOSE argument allows you to add whitespace and comments to the string passed to re.compile()."
   ]
  },
  {
   "cell_type": "code",
   "execution_count": null,
   "id": "ec4d2395",
   "metadata": {},
   "outputs": [],
   "source": [
    "20.How would you write a regex that match a number with comma for every three digits? it must match the given following:\n",
    "\n",
    "ANSWER:\n",
    "    re.compile(r'^\\d{1,3}(,\\d{3})*$') will create this regex, but other regex strings can produce a similar regular expression."
   ]
  },
  {
   "cell_type": "code",
   "execution_count": null,
   "id": "efb63d9a",
   "metadata": {},
   "outputs": [],
   "source": [
    "21.How would you write a regex that matches the full name of someone whose last name is Watanabe? You can assume that the first name that comes before it will always be one word that begins with a capital letter. The regex must match the following:\n",
    "    \n",
    "    ANSWER:\n",
    "        re.compile(r'[A-Z][a-z]*\\sNakamoto')\n",
    "\n"
   ]
  },
  {
   "cell_type": "code",
   "execution_count": null,
   "id": "774bc1fc",
   "metadata": {},
   "outputs": [],
   "source": [
    "22.How would you write a regex that matches a scentence where the first word is either Alice, Bob, or Carol;the second word is either eats,pets or throws; the third word is apples, Cats or baseballs;\n",
    " and the scentence ends with period? This regex should be case insensitive. It must match the following::\n",
    "            \n",
    "ANSWER:\n",
    "    re.compile(r'(Alice|Bob|Carol)\\s(eats|pets|throws)\\s(apples|cats|baseballs)\\.', re.IGNORECASE)\n",
    "\n"
   ]
  }
 ],
 "metadata": {
  "kernelspec": {
   "display_name": "Python 3 (ipykernel)",
   "language": "python",
   "name": "python3"
  },
  "language_info": {
   "codemirror_mode": {
    "name": "ipython",
    "version": 3
   },
   "file_extension": ".py",
   "mimetype": "text/x-python",
   "name": "python",
   "nbconvert_exporter": "python",
   "pygments_lexer": "ipython3",
   "version": "3.9.7"
  }
 },
 "nbformat": 4,
 "nbformat_minor": 5
}
