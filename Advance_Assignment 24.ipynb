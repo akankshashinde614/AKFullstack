{
 "cells": [
  {
   "cell_type": "markdown",
   "id": "ae38961f",
   "metadata": {},
   "source": [
    "Q1. Is it permissible to use several import statements to import the same module? What would the\n",
    "goal be? Can you think of a situation where it would be beneficial?"
   ]
  },
  {
   "cell_type": "code",
   "execution_count": null,
   "id": "6aee5ae5",
   "metadata": {},
   "outputs": [],
   "source": [
    "Ans: Yes, it is permissible to use several import statements to import the same module. It is used in case when we have to import multiple functions from same module."
   ]
  },
  {
   "cell_type": "markdown",
   "id": "98fda5eb",
   "metadata": {},
   "source": [
    "Q2. What are some of a modules characteristics? (Name at least one.)"
   ]
  },
  {
   "cell_type": "code",
   "execution_count": null,
   "id": "550bb051",
   "metadata": {},
   "outputs": [],
   "source": [
    "Ans: The following are some of a module's characteristics:\n",
    "\n",
    "1.__name__ : It returns the name of the module\n",
    "2.__doc__ : It denotes the documentation string line written in a module code.\n",
    "3.__file__ : It holds the name and path of the module file from which it is loaded\n",
    "4.__dict__ : It return a dictionary object of module attributes, functions and other definitions and their respective values"
   ]
  },
  {
   "cell_type": "markdown",
   "id": "3a1a2805",
   "metadata": {},
   "source": [
    "Q3. Circular importing, such as when two modules import each other, can lead to dependencies and\n",
    "bugs that aren&#39;t visible. How can you go about creating a program that avoids mutual importing?"
   ]
  },
  {
   "cell_type": "code",
   "execution_count": null,
   "id": "c0ab5dba",
   "metadata": {},
   "outputs": [],
   "source": [
    "Ans: Circular importing means importing the two modules in each other. If suppose we are wokring in MOD1.py file and it is importing some function say F2() from some other module say MOD2.PY file or we can do vice-versa. What will happen is: This will give an import error.\n",
    "This is because when we import F2() function from module MOD2.py, then this will execute MOD2.py file. And in MOD2.py file there is an another statement of importing MOD1.py module.\n",
    "This will result in endless loop. To avoid this error just do one thingWe can use if __name__ == '__main__'\n",
    "In the function, you can't directly refer to the function in the program. The addition of this sentence avoids the endless loop of the program ."
   ]
  },
  {
   "cell_type": "markdown",
   "id": "e4318be3",
   "metadata": {},
   "source": [
    "Q4. Why is _ _all_ _ in Python?"
   ]
  },
  {
   "cell_type": "code",
   "execution_count": null,
   "id": "386e31e1",
   "metadata": {},
   "outputs": [],
   "source": [
    "Ans: It provides list of all modules present in a library."
   ]
  },
  {
   "cell_type": "markdown",
   "id": "56877047",
   "metadata": {},
   "source": [
    "Q5. In what situation is it useful to refer to the _ _name_ _ attribute or the string &#39;_ _main_ _&#39;?"
   ]
  },
  {
   "cell_type": "code",
   "execution_count": null,
   "id": "42eef267",
   "metadata": {},
   "outputs": [],
   "source": [
    "Ans: During the time of execution of the code if we want to refer the module in which we are working on then we uses name attribute. In that case it will return the module in which we are working on. Suppose if that moudle is being imported from some other module then name will have the name of that moudle from where the current module has been imported. The current module in which we are working is refer to the string __main __."
   ]
  },
  {
   "cell_type": "markdown",
   "id": "a852debf",
   "metadata": {},
   "source": [
    "Q6. What are some of the benefits of attaching a program counter to the RPN interpreter application, which interprets an RPN script line by line?"
   ]
  },
  {
   "cell_type": "code",
   "execution_count": null,
   "id": "1baf778c",
   "metadata": {},
   "outputs": [],
   "source": [
    "Reverse polish notation (RPN) is a lot easier to parse than infix, and does not require explicit grouping of operands (by parenthesis). Also, RPN can easily support n-ary operations, where n>2 — a bit difficult with infix notation."
   ]
  },
  {
   "cell_type": "markdown",
   "id": "a02b21ed",
   "metadata": {},
   "source": [
    "Q7. What are the minimum expressions or statements (or both) that you had need to render a basic\n",
    "programming language like RPN primitive but complete— that is, capable of carrying out any\n",
    "computerised task theoretically possible?   "
   ]
  },
  {
   "cell_type": "code",
   "execution_count": null,
   "id": "cb915730",
   "metadata": {},
   "outputs": [],
   "source": []
  }
 ],
 "metadata": {
  "kernelspec": {
   "display_name": "Python 3 (ipykernel)",
   "language": "python",
   "name": "python3"
  },
  "language_info": {
   "codemirror_mode": {
    "name": "ipython",
    "version": 3
   },
   "file_extension": ".py",
   "mimetype": "text/x-python",
   "name": "python",
   "nbconvert_exporter": "python",
   "pygments_lexer": "ipython3",
   "version": "3.9.7"
  }
 },
 "nbformat": 4,
 "nbformat_minor": 5
}
