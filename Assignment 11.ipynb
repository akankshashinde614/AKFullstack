{
 "cells": [
  {
   "cell_type": "markdown",
   "id": "9aa11355",
   "metadata": {},
   "source": [
    "1. Create an assert statement that throws an AssertionError if the variable spam is a negative integer."
   ]
  },
  {
   "cell_type": "code",
   "execution_count": 5,
   "id": "5079f9b4",
   "metadata": {},
   "outputs": [
    {
     "ename": "AssertionError",
     "evalue": "",
     "output_type": "error",
     "traceback": [
      "\u001b[1;31m---------------------------------------------------------------------------\u001b[0m",
      "\u001b[1;31mAssertionError\u001b[0m                            Traceback (most recent call last)",
      "\u001b[1;32mC:\\Users\\MYPC~1\\AppData\\Local\\Temp/ipykernel_17484/1513583877.py\u001b[0m in \u001b[0;36m<module>\u001b[1;34m\u001b[0m\n\u001b[0;32m      1\u001b[0m \u001b[0mspam\u001b[0m \u001b[1;33m=\u001b[0m \u001b[1;36m0\u001b[0m\u001b[1;33m\u001b[0m\u001b[1;33m\u001b[0m\u001b[0m\n\u001b[1;32m----> 2\u001b[1;33m \u001b[1;32massert\u001b[0m \u001b[0mspam\u001b[0m \u001b[1;33m>=\u001b[0m\u001b[1;36m10\u001b[0m\u001b[1;33m\u001b[0m\u001b[1;33m\u001b[0m\u001b[0m\n\u001b[0m",
      "\u001b[1;31mAssertionError\u001b[0m: "
     ]
    }
   ],
   "source": [
    "spam = 0\n",
    "assert spam >=10"
   ]
  },
  {
   "cell_type": "markdown",
   "id": "980776c5",
   "metadata": {},
   "source": [
    "2. Write an assert statement that triggers an AssertError if the variable eggs and bacon contains strings that are the same as each other even if their cases are different."
   ]
  },
  {
   "cell_type": "code",
   "execution_count": 7,
   "id": "deaa96da",
   "metadata": {},
   "outputs": [
    {
     "ename": "AssertionError",
     "evalue": "",
     "output_type": "error",
     "traceback": [
      "\u001b[1;31m---------------------------------------------------------------------------\u001b[0m",
      "\u001b[1;31mAssertionError\u001b[0m                            Traceback (most recent call last)",
      "\u001b[1;32mC:\\Users\\MYPC~1\\AppData\\Local\\Temp/ipykernel_17484/948401621.py\u001b[0m in \u001b[0;36m<module>\u001b[1;34m\u001b[0m\n\u001b[0;32m      2\u001b[0m \u001b[0mbacon\u001b[0m\u001b[1;33m=\u001b[0m\u001b[1;34m'goodbye'\u001b[0m\u001b[1;33m\u001b[0m\u001b[1;33m\u001b[0m\u001b[0m\n\u001b[0;32m      3\u001b[0m \u001b[1;32massert\u001b[0m \u001b[0meggs\u001b[0m\u001b[1;33m.\u001b[0m\u001b[0mlower\u001b[0m\u001b[1;33m(\u001b[0m\u001b[1;33m)\u001b[0m \u001b[1;33m!=\u001b[0m \u001b[0mbacon\u001b[0m\u001b[1;33m.\u001b[0m\u001b[0mlower\u001b[0m\u001b[1;33m(\u001b[0m\u001b[1;33m)\u001b[0m\u001b[1;33m\u001b[0m\u001b[1;33m\u001b[0m\u001b[0m\n\u001b[1;32m----> 4\u001b[1;33m \u001b[1;32massert\u001b[0m \u001b[0meggs\u001b[0m\u001b[1;33m.\u001b[0m\u001b[0mupper\u001b[0m\u001b[1;33m(\u001b[0m\u001b[1;33m)\u001b[0m \u001b[1;33m!=\u001b[0m \u001b[0meggs\u001b[0m\u001b[1;33m.\u001b[0m\u001b[0mupper\u001b[0m\u001b[1;33m(\u001b[0m\u001b[1;33m)\u001b[0m\u001b[1;33m\u001b[0m\u001b[1;33m\u001b[0m\u001b[0m\n\u001b[0m",
      "\u001b[1;31mAssertionError\u001b[0m: "
     ]
    }
   ],
   "source": [
    "eggs='hello'\n",
    "bacon='goodbye'\n",
    "assert eggs.lower() != bacon.lower()\n",
    "assert eggs.upper() != eggs.upper()"
   ]
  },
  {
   "cell_type": "markdown",
   "id": "7acf2b7c",
   "metadata": {},
   "source": [
    "3. Create an assert statement that throws an AssertionError every time?"
   ]
  },
  {
   "cell_type": "code",
   "execution_count": 10,
   "id": "55e29d42",
   "metadata": {},
   "outputs": [
    {
     "ename": "AssertionError",
     "evalue": "",
     "output_type": "error",
     "traceback": [
      "\u001b[1;31m---------------------------------------------------------------------------\u001b[0m",
      "\u001b[1;31mAssertionError\u001b[0m                            Traceback (most recent call last)",
      "\u001b[1;32mC:\\Users\\MYPC~1\\AppData\\Local\\Temp/ipykernel_17484/1940321566.py\u001b[0m in \u001b[0;36m<module>\u001b[1;34m\u001b[0m\n\u001b[0;32m      1\u001b[0m \u001b[1;31m#the following statement throws an AssertionError every time\u001b[0m\u001b[1;33m\u001b[0m\u001b[1;33m\u001b[0m\u001b[0m\n\u001b[1;32m----> 2\u001b[1;33m \u001b[1;32massert\u001b[0m \u001b[1;32mFalse\u001b[0m\u001b[1;33m\u001b[0m\u001b[1;33m\u001b[0m\u001b[0m\n\u001b[0m",
      "\u001b[1;31mAssertionError\u001b[0m: "
     ]
    }
   ],
   "source": [
    "#the following statement throws an AssertionError every time\n",
    "assert False"
   ]
  },
  {
   "cell_type": "markdown",
   "id": "29b6d5a9",
   "metadata": {},
   "source": [
    "4. What are the two lines that must be present in your software in order to call logging.debug()? "
   ]
  },
  {
   "cell_type": "code",
   "execution_count": 11,
   "id": "d164f129",
   "metadata": {},
   "outputs": [],
   "source": [
    "import logging\n",
    "logging.basicConfig(level=logging.DEBUG, format='%(asctime)s - %(levelname)s - %(message)s')"
   ]
  },
  {
   "cell_type": "code",
   "execution_count": 21,
   "id": "658964cb",
   "metadata": {},
   "outputs": [
    {
     "name": "stderr",
     "output_type": "stream",
     "text": [
      "2022-05-05 19:23:10,626 - DEBUG - message\n"
     ]
    }
   ],
   "source": [
    "logging.debug('message')"
   ]
  },
  {
   "cell_type": "markdown",
   "id": "857caa58",
   "metadata": {},
   "source": [
    "5. What are the two lines that your program must have in order to have logging.debug() send a logging message to a file named program Log.txt?"
   ]
  },
  {
   "cell_type": "code",
   "execution_count": 10,
   "id": "49a5173f",
   "metadata": {},
   "outputs": [],
   "source": [
    "import logging\n",
    "logging.basicConfig(\n",
    "    filename='programLog.txt',\n",
    "    level=logging.DEBUG,\n",
    "    format='%(asctime)s - %(levelname)s - %(message)s'\n",
    ")"
   ]
  },
  {
   "cell_type": "code",
   "execution_count": 11,
   "id": "568afc02",
   "metadata": {},
   "outputs": [],
   "source": [
    "logging.debug('message')"
   ]
  },
  {
   "cell_type": "markdown",
   "id": "711e910a",
   "metadata": {},
   "source": [
    "6. What are the five levels of logging?"
   ]
  },
  {
   "cell_type": "code",
   "execution_count": null,
   "id": "69351e9f",
   "metadata": {},
   "outputs": [],
   "source": [
    "Five levels of logging are as follows:\n",
    "1.logging.debug() - variable's state and small details\n",
    "2.logging.info() - general events, confirm a program is working\n",
    "3.logging.warning() - potiental problem to work on in the future\n",
    "4.logging.error() - record an error that caused program to fail to do something\n",
    "5.logging.critical() - fatal error that has caused\n"
   ]
  },
  {
   "cell_type": "markdown",
   "id": "770b6ef7",
   "metadata": {},
   "source": [
    "7. What line of code would you add to your software to disable all logging message?"
   ]
  },
  {
   "cell_type": "code",
   "execution_count": null,
   "id": "b40b14a0",
   "metadata": {},
   "outputs": [],
   "source": [
    "Use code given below to disable all logging message:\n",
    "logging.disable(logging.DEBUG)"
   ]
  },
  {
   "cell_type": "markdown",
   "id": "34c3dfab",
   "metadata": {},
   "source": [
    "8. Why is using logging message better than using print()  to display the same message? "
   ]
  },
  {
   "cell_type": "code",
   "execution_count": null,
   "id": "bd2d2718",
   "metadata": {},
   "outputs": [],
   "source": [
    "Because with print, when your program is ready for production, you still have to \"remove\" or comment it out. Verses logging message, you can toggle\n",
    "the setting on/off or write to a file (send to a server). It is more flexible especially with logging level 1-5."
   ]
  },
  {
   "cell_type": "markdown",
   "id": "df750b40",
   "metadata": {},
   "source": [
    "9. What are the differences between the step Over, step In and step Out buttons in the debugger?"
   ]
  },
  {
   "cell_type": "code",
   "execution_count": null,
   "id": "1e5157b9",
   "metadata": {},
   "outputs": [],
   "source": [
    "If the line does not contain a function it behaves the same as “step over” but if it does the debugger will enter the called function and continue line-by-line debugging there. Step out – An action to take in the debugger that returns to the line where the current function was called."
   ]
  },
  {
   "cell_type": "markdown",
   "id": "7d23c58b",
   "metadata": {},
   "source": [
    "10. After you click Continue, when will the debugger stop?"
   ]
  },
  {
   "cell_type": "code",
   "execution_count": null,
   "id": "0493ef2e",
   "metadata": {},
   "outputs": [],
   "source": [
    "After clicking Continue,the debugger only stop when a breakpoint is encountered."
   ]
  },
  {
   "cell_type": "markdown",
   "id": "4d02bc8c",
   "metadata": {},
   "source": [
    "11. What is the concept of a breakpoint? "
   ]
  },
  {
   "cell_type": "code",
   "execution_count": null,
   "id": "3740bbd1",
   "metadata": {},
   "outputs": [],
   "source": [
    "A breakpoint is an intentional stopping or pausing place in a program, put in place for debugging purposes. It is also sometimes simply referred to as a pause."
   ]
  }
 ],
 "metadata": {
  "kernelspec": {
   "display_name": "Python 3 (ipykernel)",
   "language": "python",
   "name": "python3"
  },
  "language_info": {
   "codemirror_mode": {
    "name": "ipython",
    "version": 3
   },
   "file_extension": ".py",
   "mimetype": "text/x-python",
   "name": "python",
   "nbconvert_exporter": "python",
   "pygments_lexer": "ipython3",
   "version": "3.9.7"
  }
 },
 "nbformat": 4,
 "nbformat_minor": 5
}
