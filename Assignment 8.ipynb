{
 "cells": [
  {
   "cell_type": "code",
   "execution_count": null,
   "id": "4ffe4bca",
   "metadata": {},
   "outputs": [],
   "source": [
    "1.Is the python standered library included with PyInputPlus?\n",
    "\n",
    "ANSWER:\n",
    "    PyInputPlus is not a part of the Python Standard Library, so you must install it separately using Pip. To install PyInputPlus, run pip install pyinputplus from the command line. Appendix A has complete instructions for installing third-party modules. To check if PyInputPlus installed correctly, import it in the interactive shell:\n",
    "    import pyinputplus."
   ]
  },
  {
   "cell_type": "code",
   "execution_count": 3,
   "id": "2da79c83",
   "metadata": {},
   "outputs": [
    {
     "name": "stdout",
     "output_type": "stream",
     "text": [
      "Requirement already satisfied: pyinputplus in c:\\users\\my pc\\anaconda3\\lib\\site-packages (0.2.12)\n",
      "Requirement already satisfied: pysimplevalidate>=0.2.7 in c:\\users\\my pc\\anaconda3\\lib\\site-packages (from pyinputplus) (0.2.12)\n",
      "Requirement already satisfied: stdiomask>=0.0.3 in c:\\users\\my pc\\anaconda3\\lib\\site-packages (from pyinputplus) (0.0.6)\n",
      "Note: you may need to restart the kernel to use updated packages.\n"
     ]
    }
   ],
   "source": [
    "pip install pyinputplus\n"
   ]
  },
  {
   "cell_type": "code",
   "execution_count": null,
   "id": "40506541",
   "metadata": {},
   "outputs": [],
   "source": [
    "2. Why is PyInputPlus commonly imported with import pyinputplus as pypi?\n",
    "\n",
    "ANSWER:\n",
    "     PyInputPlus commonlu imported with import pyinputplus as pypi because you can enter a shorter name when calling the module's functions. \n",
    "    "
   ]
  },
  {
   "cell_type": "code",
   "execution_count": null,
   "id": "106e9cf7",
   "metadata": {},
   "outputs": [],
   "source": [
    "3. How do you distinguish between inputint() and inputfloat()?\n",
    "\n",
    "ANSWER:\n",
    "    inputInt() : Accepts an integer value and returns an int.\n",
    "    inputFloat() : Accepts a floating-point numeric value and returns a float."
   ]
  },
  {
   "cell_type": "code",
   "execution_count": null,
   "id": "2a5ee1e5",
   "metadata": {},
   "outputs": [],
   "source": [
    "4. Using PyInputPlus, how do you insure that the user enters a whole number between 0  and 99?\n",
    "\n",
    "ANSWER:\n",
    "    In the inputint function we can set the min = 0 and max =99 to ensure user enters number between 0 and 99."
   ]
  },
  {
   "cell_type": "code",
   "execution_count": 1,
   "id": "6da28bb3",
   "metadata": {},
   "outputs": [
    {
     "name": "stdout",
     "output_type": "stream",
     "text": [
      "777\n",
      "Number must be at maximum 99.\n",
      "66\n"
     ]
    },
    {
     "data": {
      "text/plain": [
       "66"
      ]
     },
     "execution_count": 1,
     "metadata": {},
     "output_type": "execute_result"
    }
   ],
   "source": [
    "import pyinputplus as pyip\n",
    "pyip.inputInt(min=0, max=99)"
   ]
  },
  {
   "cell_type": "code",
   "execution_count": null,
   "id": "c432a3fa",
   "metadata": {},
   "outputs": [],
   "source": [
    "5. What is transferred to the keyword arguments allowRegexes and blockRegexes?\n",
    "\n",
    "ANSWER:\n",
    "    We can also use regular expressions to specify whether an input is allowed or not. The allowRegexes and blockRegexes keyword arguments take a list of regular expression strings to determine what the PyInputPlus function will accept or reject as valid input."
   ]
  },
  {
   "cell_type": "code",
   "execution_count": null,
   "id": "c1219c92",
   "metadata": {},
   "outputs": [],
   "source": [
    "6.If a blank input is entered three times, what does inputstr(limit=3) do?\n",
    "\n",
    "ANSWER:\n",
    "    If a blank input is entered three times it will throw RetryLimitException exception."
   ]
  },
  {
   "cell_type": "code",
   "execution_count": null,
   "id": "c523a80f",
   "metadata": {},
   "outputs": [
    {
     "name": "stdout",
     "output_type": "stream",
     "text": [
      "\n",
      "Blank values are not allowed.\n"
     ]
    }
   ],
   "source": [
    "response=pyip.inputStr(limit=3)"
   ]
  },
  {
   "cell_type": "code",
   "execution_count": null,
   "id": "f8d5a1ce",
   "metadata": {},
   "outputs": [],
   "source": [
    "7.If blank input is entered three times, what does inputstr(limit=3, default='hello') do?\n",
    "\n",
    "ANSWER:\n",
    "    When you use limit keyword arguments and also pass a default keyword argument, the function returns the default value instead of raising an exception."
   ]
  },
  {
   "cell_type": "code",
   "execution_count": null,
   "id": "d3180e43",
   "metadata": {},
   "outputs": [],
   "source": [
    "response1=pyip.inputStr(limit=3,default='hello')\n",
    "response1"
   ]
  }
 ],
 "metadata": {
  "kernelspec": {
   "display_name": "Python 3 (ipykernel)",
   "language": "python",
   "name": "python3"
  },
  "language_info": {
   "codemirror_mode": {
    "name": "ipython",
    "version": 3
   },
   "file_extension": ".py",
   "mimetype": "text/x-python",
   "name": "python",
   "nbconvert_exporter": "python",
   "pygments_lexer": "ipython3",
   "version": "3.9.7"
  }
 },
 "nbformat": 4,
 "nbformat_minor": 5
}
