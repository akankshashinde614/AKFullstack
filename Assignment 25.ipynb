{
 "cells": [
  {
   "cell_type": "markdown",
   "id": "af13530d",
   "metadata": {},
   "source": [
    "1) What is the difference between enclosing a list comprehension in square brackets and parentheses?"
   ]
  },
  {
   "cell_type": "code",
   "execution_count": null,
   "id": "e4c4c981",
   "metadata": {},
   "outputs": [],
   "source": [
    "Square brackets are lists while parenthesis are tuples."
   ]
  },
  {
   "cell_type": "markdown",
   "id": "3ad16a2f",
   "metadata": {},
   "source": [
    "2) What is the relationship between generators and iterators?"
   ]
  },
  {
   "cell_type": "code",
   "execution_count": null,
   "id": "75fbad6b",
   "metadata": {},
   "outputs": [],
   "source": [
    "Generators are mostly used in loops to generate an iterator by returning all the values in the loop without affecting the iteration of the loop.\n",
    "Iterators are used mostly to iterate or convert other objects to an iterator using iter() function."
   ]
  },
  {
   "cell_type": "markdown",
   "id": "a76a68be",
   "metadata": {},
   "source": [
    "3) What are the signs that a function is a generator function? "
   ]
  },
  {
   "cell_type": "code",
   "execution_count": null,
   "id": "6c9a2ab5",
   "metadata": {},
   "outputs": [],
   "source": [
    "Generator function contains at least one yeild statement."
   ]
  },
  {
   "cell_type": "markdown",
   "id": "a2d3dd9b",
   "metadata": {},
   "source": [
    "4) What is the purpose of a yield statement?"
   ]
  },
  {
   "cell_type": "code",
   "execution_count": null,
   "id": "1c46cdac",
   "metadata": {},
   "outputs": [],
   "source": [
    "he yield statement suspends functions execution and sends a value back to the caller."
   ]
  },
  {
   "cell_type": "markdown",
   "id": "66e20a6d",
   "metadata": {},
   "source": [
    " 5) What is the relationship between map calls and list comprehensions? Make a comparison and contrast between the two."
   ]
  },
  {
   "cell_type": "code",
   "execution_count": null,
   "id": "da29cad8",
   "metadata": {},
   "outputs": [],
   "source": [
    "List comprehension are used when a list of results is required as map only returns a map object and does not return any list. Map is faster in case of calling an already defined function"
   ]
  }
 ],
 "metadata": {
  "kernelspec": {
   "display_name": "Python 3 (ipykernel)",
   "language": "python",
   "name": "python3"
  },
  "language_info": {
   "codemirror_mode": {
    "name": "ipython",
    "version": 3
   },
   "file_extension": ".py",
   "mimetype": "text/x-python",
   "name": "python",
   "nbconvert_exporter": "python",
   "pygments_lexer": "ipython3",
   "version": "3.9.7"
  }
 },
 "nbformat": 4,
 "nbformat_minor": 5
}
