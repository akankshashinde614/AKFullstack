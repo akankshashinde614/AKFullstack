{
 "cells": [
  {
   "cell_type": "markdown",
   "id": "2966cfdb",
   "metadata": {},
   "source": [
    "Q1. What is a probability distribution, exactly? If the values are meant to be random, how can you\n",
    "predict them at all?"
   ]
  },
  {
   "cell_type": "code",
   "execution_count": null,
   "id": "344ef469",
   "metadata": {},
   "outputs": [],
   "source": [
    "Ans: A probability distribution describes how a random variable is distributed.\n",
    "It tells us which values a random variable is most likely to take on and which values are less likely. Based on the previous data and the occurences of the random event, we can predict the outcome in terms of probabilities."
   ]
  },
  {
   "cell_type": "markdown",
   "id": "0ce7db14",
   "metadata": {},
   "source": [
    "Q2. Is there a distinction between true random numbers and pseudo-random numbers, if there is\n",
    "one? Why are the latter considered “good enough”?"
   ]
  },
  {
   "cell_type": "code",
   "execution_count": null,
   "id": "c244fc65",
   "metadata": {},
   "outputs": [],
   "source": [
    "Ans: : True Random Numbers are true physical values while pseudo-random numbers are generated internally by a program . Latter is considered good enough as they have sort of uniform distribution."
   ]
  },
  {
   "cell_type": "markdown",
   "id": "23e23872",
   "metadata": {},
   "source": [
    "Q3. What are the two main factors that influence the behaviour of a &quot;normal&quot; probability distribution?"
   ]
  },
  {
   "cell_type": "code",
   "execution_count": null,
   "id": "86823b80",
   "metadata": {},
   "outputs": [],
   "source": [
    "Ans: Normal Probability Distribution are influenced by two factors mean and the variance."
   ]
  },
  {
   "cell_type": "markdown",
   "id": "ff6cf1c9",
   "metadata": {},
   "source": [
    "Q4. Provide a real-life example of a normal distribution."
   ]
  },
  {
   "cell_type": "code",
   "execution_count": null,
   "id": "9bb3fb5e",
   "metadata": {},
   "outputs": [],
   "source": [
    "Ans: A Real-life example of a normal distribution are heights or blood pressure measurements"
   ]
  },
  {
   "cell_type": "markdown",
   "id": "1a9b9bdb",
   "metadata": {},
   "source": [
    "Q5. In the short term, how can you expect a probability distribution to behave? What do you think will\n",
    "happen as the number of trials grows?"
   ]
  },
  {
   "cell_type": "code",
   "execution_count": null,
   "id": "ad647878",
   "metadata": {},
   "outputs": [],
   "source": [
    "Ans: Variance will decrease with number of trials"
   ]
  },
  {
   "cell_type": "markdown",
   "id": "f8e7cf74",
   "metadata": {},
   "source": [
    "Q6. What kind of object can be shuffled by using random.shuffle?"
   ]
  },
  {
   "cell_type": "code",
   "execution_count": null,
   "id": "9ba98da3",
   "metadata": {},
   "outputs": [],
   "source": [
    "Ans: lists (list), strings (str) and tuples (tuple) objects can be shuffled by using random.shuffle."
   ]
  },
  {
   "cell_type": "markdown",
   "id": "00884ddb",
   "metadata": {},
   "source": [
    "Q7. Describe the math package&#39;s general categories of functions."
   ]
  },
  {
   "cell_type": "code",
   "execution_count": null,
   "id": "b4a45f2b",
   "metadata": {},
   "outputs": [],
   "source": [
    "Ans: The Math package's general categories of functions are:\n",
    "\n",
    "1.Trigonometric functions\n",
    "2.Quadratic functions\n",
    "3.Exponential functions\n",
    "4.Hyperbolic functions\n",
    "5.Periodic functions\n",
    "6.Arithmetic functions\n",
    "7.Logarithimic functions\n",
    "8.Conversions to Integer"
   ]
  },
  {
   "cell_type": "markdown",
   "id": "2486c694",
   "metadata": {},
   "source": [
    "Q8. What is the relationship between exponentiation and logarithms?"
   ]
  },
  {
   "cell_type": "code",
   "execution_count": null,
   "id": "7e8c20ba",
   "metadata": {},
   "outputs": [],
   "source": [
    "Ans: Exponentiation and logarithms are inverse of each other."
   ]
  },
  {
   "cell_type": "markdown",
   "id": "a9a5d747",
   "metadata": {},
   "source": [
    "Q9. What are the three logarithmic functions that Python supports?"
   ]
  },
  {
   "cell_type": "code",
   "execution_count": null,
   "id": "1ff18b80",
   "metadata": {},
   "outputs": [],
   "source": [
    "Ans: The Three Logarithmic Functions that Python supports are:\n",
    "\n",
    "1.log2(x) - logarithmic value of x to base 2\n",
    "2.log10(x) - logarithmic value of x to base 10\n",
    "3.log1p(a) - This function is used to compute logarithm(1+a) ."
   ]
  }
 ],
 "metadata": {
  "kernelspec": {
   "display_name": "Python 3 (ipykernel)",
   "language": "python",
   "name": "python3"
  },
  "language_info": {
   "codemirror_mode": {
    "name": "ipython",
    "version": 3
   },
   "file_extension": ".py",
   "mimetype": "text/x-python",
   "name": "python",
   "nbconvert_exporter": "python",
   "pygments_lexer": "ipython3",
   "version": "3.9.7"
  }
 },
 "nbformat": 4,
 "nbformat_minor": 5
}
